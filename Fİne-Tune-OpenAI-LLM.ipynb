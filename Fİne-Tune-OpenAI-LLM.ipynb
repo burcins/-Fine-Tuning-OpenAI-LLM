{
  "nbformat": 4,
  "nbformat_minor": 0,
  "metadata": {
    "colab": {
      "provenance": [],
      "collapsed_sections": [
        "1Rp80dTGpsDD",
        "0r2XnfwnqTCK",
        "Jo9HFdW0jput",
        "4XB-sFc3kO4A",
        "8lGyZnvk25q9"
      ],
      "include_colab_link": true
    },
    "kernelspec": {
      "name": "python3",
      "display_name": "Python 3"
    },
    "language_info": {
      "name": "python"
    }
  },
  "cells": [
    {
      "cell_type": "markdown",
      "metadata": {
        "id": "view-in-github",
        "colab_type": "text"
      },
      "source": [
        "<a href=\"https://colab.research.google.com/github/burcins/-Fine-Tuning-OpenAI-LLM/blob/master/F%C4%B0ne-Tune-OpenAI-LLM.ipynb\" target=\"_parent\"><img src=\"https://colab.research.google.com/assets/colab-badge.svg\" alt=\"Open In Colab\"/></a>"
      ]
    },
    {
      "cell_type": "markdown",
      "source": [
        "# Welcome To The Notebook"
      ],
      "metadata": {
        "id": "2AqPte8bet51"
      }
    },
    {
      "cell_type": "markdown",
      "source": [
        "### Task 1 - Set up the project environment"
      ],
      "metadata": {
        "id": "1Rp80dTGpsDD"
      }
    },
    {
      "cell_type": "code",
      "source": [
        "!pip install openai==1.7.2 python-dotenv"
      ],
      "metadata": {
        "id": "lx4wV2MIUJ8A",
        "colab": {
          "base_uri": "https://localhost:8080/"
        },
        "outputId": "b9de28b4-b67f-45d0-c1f5-10dd96dae82b"
      },
      "execution_count": 1,
      "outputs": [
        {
          "output_type": "stream",
          "name": "stdout",
          "text": [
            "Collecting openai==1.7.2\n",
            "  Downloading openai-1.7.2-py3-none-any.whl (212 kB)\n",
            "\u001b[?25l     \u001b[90m━━━━━━━━━━━━━━━━━━━━━━━━━━━━━━━━━━━━━━━━\u001b[0m \u001b[32m0.0/212.1 kB\u001b[0m \u001b[31m?\u001b[0m eta \u001b[36m-:--:--\u001b[0m\r\u001b[2K     \u001b[91m━━━━━━━━━━━━━━━━━━━━━━━━━━━━\u001b[0m\u001b[91m╸\u001b[0m\u001b[90m━━━━━━━━━━━\u001b[0m \u001b[32m153.6/212.1 kB\u001b[0m \u001b[31m4.4 MB/s\u001b[0m eta \u001b[36m0:00:01\u001b[0m\r\u001b[2K     \u001b[90m━━━━━━━━━━━━━━━━━━━━━━━━━━━━━━━━━━━━━━━━\u001b[0m \u001b[32m212.1/212.1 kB\u001b[0m \u001b[31m4.4 MB/s\u001b[0m eta \u001b[36m0:00:00\u001b[0m\n",
            "\u001b[?25hCollecting python-dotenv\n",
            "  Downloading python_dotenv-1.0.1-py3-none-any.whl (19 kB)\n",
            "Requirement already satisfied: anyio<5,>=3.5.0 in /usr/local/lib/python3.10/dist-packages (from openai==1.7.2) (3.7.1)\n",
            "Requirement already satisfied: distro<2,>=1.7.0 in /usr/lib/python3/dist-packages (from openai==1.7.2) (1.7.0)\n",
            "Collecting httpx<1,>=0.23.0 (from openai==1.7.2)\n",
            "  Downloading httpx-0.27.0-py3-none-any.whl (75 kB)\n",
            "\u001b[2K     \u001b[90m━━━━━━━━━━━━━━━━━━━━━━━━━━━━━━━━━━━━━━━━\u001b[0m \u001b[32m75.6/75.6 kB\u001b[0m \u001b[31m8.1 MB/s\u001b[0m eta \u001b[36m0:00:00\u001b[0m\n",
            "\u001b[?25hRequirement already satisfied: pydantic<3,>=1.9.0 in /usr/local/lib/python3.10/dist-packages (from openai==1.7.2) (2.7.1)\n",
            "Requirement already satisfied: sniffio in /usr/local/lib/python3.10/dist-packages (from openai==1.7.2) (1.3.1)\n",
            "Requirement already satisfied: tqdm>4 in /usr/local/lib/python3.10/dist-packages (from openai==1.7.2) (4.66.4)\n",
            "Requirement already satisfied: typing-extensions<5,>=4.7 in /usr/local/lib/python3.10/dist-packages (from openai==1.7.2) (4.11.0)\n",
            "Requirement already satisfied: idna>=2.8 in /usr/local/lib/python3.10/dist-packages (from anyio<5,>=3.5.0->openai==1.7.2) (3.7)\n",
            "Requirement already satisfied: exceptiongroup in /usr/local/lib/python3.10/dist-packages (from anyio<5,>=3.5.0->openai==1.7.2) (1.2.1)\n",
            "Requirement already satisfied: certifi in /usr/local/lib/python3.10/dist-packages (from httpx<1,>=0.23.0->openai==1.7.2) (2024.2.2)\n",
            "Collecting httpcore==1.* (from httpx<1,>=0.23.0->openai==1.7.2)\n",
            "  Downloading httpcore-1.0.5-py3-none-any.whl (77 kB)\n",
            "\u001b[2K     \u001b[90m━━━━━━━━━━━━━━━━━━━━━━━━━━━━━━━━━━━━━━━━\u001b[0m \u001b[32m77.9/77.9 kB\u001b[0m \u001b[31m8.7 MB/s\u001b[0m eta \u001b[36m0:00:00\u001b[0m\n",
            "\u001b[?25hCollecting h11<0.15,>=0.13 (from httpcore==1.*->httpx<1,>=0.23.0->openai==1.7.2)\n",
            "  Downloading h11-0.14.0-py3-none-any.whl (58 kB)\n",
            "\u001b[2K     \u001b[90m━━━━━━━━━━━━━━━━━━━━━━━━━━━━━━━━━━━━━━━━\u001b[0m \u001b[32m58.3/58.3 kB\u001b[0m \u001b[31m5.9 MB/s\u001b[0m eta \u001b[36m0:00:00\u001b[0m\n",
            "\u001b[?25hRequirement already satisfied: annotated-types>=0.4.0 in /usr/local/lib/python3.10/dist-packages (from pydantic<3,>=1.9.0->openai==1.7.2) (0.6.0)\n",
            "Requirement already satisfied: pydantic-core==2.18.2 in /usr/local/lib/python3.10/dist-packages (from pydantic<3,>=1.9.0->openai==1.7.2) (2.18.2)\n",
            "Installing collected packages: python-dotenv, h11, httpcore, httpx, openai\n",
            "Successfully installed h11-0.14.0 httpcore-1.0.5 httpx-0.27.0 openai-1.7.2 python-dotenv-1.0.1\n"
          ]
        }
      ]
    },
    {
      "cell_type": "markdown",
      "source": [
        "Importing modules"
      ],
      "metadata": {
        "id": "qypdUNULptjB"
      }
    },
    {
      "cell_type": "code",
      "execution_count": 2,
      "metadata": {
        "id": "YFmEp0r5T2eI",
        "colab": {
          "base_uri": "https://localhost:8080/"
        },
        "outputId": "ae621f73-a573-4061-9884-3dd7e652de09"
      },
      "outputs": [
        {
          "output_type": "stream",
          "name": "stdout",
          "text": [
            "Modules are imported.\n"
          ]
        }
      ],
      "source": [
        "import pandas as pd\n",
        "import os, time\n",
        "from openai import OpenAI\n",
        "from dotenv import load_dotenv\n",
        "import json\n",
        "import matplotlib.pyplot as plt\n",
        "\n",
        "print(\"Modules are imported.\")"
      ]
    },
    {
      "cell_type": "markdown",
      "source": [
        "Setting up the OpenAI API:\n",
        "\n",
        "* Prepare a .env file to store the OpenAI API key.\n",
        "* Uploading the .env file to our colab environment\n",
        "* Load the API key and setup the API"
      ],
      "metadata": {
        "id": "XfVAcV_XqDja"
      }
    },
    {
      "cell_type": "code",
      "source": [
        "load_dotenv(\"apikey.env.txt\")\n",
        "APIKEY = os.getenv(\"APIKEY\")"
      ],
      "metadata": {
        "id": "rbXC4QM4qCBe"
      },
      "execution_count": 3,
      "outputs": []
    },
    {
      "cell_type": "markdown",
      "source": [
        "Creating OpenAI Client"
      ],
      "metadata": {
        "id": "rWxipGQIpxH8"
      }
    },
    {
      "cell_type": "code",
      "source": [
        "client = OpenAI(api_key = APIKEY)"
      ],
      "metadata": {
        "id": "nHj-RaA5p0WE"
      },
      "execution_count": 4,
      "outputs": []
    },
    {
      "cell_type": "markdown",
      "source": [
        "### Task 2 - Prepare the training data"
      ],
      "metadata": {
        "id": "0r2XnfwnqTCK"
      }
    },
    {
      "cell_type": "markdown",
      "source": [
        "Loading the provided `Customer Complaints.csv`\n",
        "\n"
      ],
      "metadata": {
        "id": "-_Alc-CyuHmE"
      }
    },
    {
      "cell_type": "code",
      "source": [
        "training_data = pd.read_csv(\"Customer Complaints.csv\")\n",
        "training_data.head()"
      ],
      "metadata": {
        "id": "jan2OKk5qW1J",
        "colab": {
          "base_uri": "https://localhost:8080/",
          "height": 206
        },
        "outputId": "4ecdd5ae-5c4c-4a09-9dff-eab78c5541b2"
      },
      "execution_count": 6,
      "outputs": [
        {
          "output_type": "execute_result",
          "data": {
            "text/plain": [
              "                                          Complaints  \\\n",
              "0   Unreliable internet! Sick of constant outages...   \n",
              "1   TV signal keeps dropping during crucial momen...   \n",
              "2   Phone line always crackling! Can't hear a thi...   \n",
              "3   Ridiculous prices for such terrible service! ...   \n",
              "4   Internet speed slower than a snail! Can't str...   \n",
              "\n",
              "                                             Details  \n",
              "0  {\"Topic\": \"Internet\", \"Problem\": \"Unreliable s...  \n",
              "1  {\"Topic\": \"TV\", \"Problem\": \"Signal dropout\", \"...  \n",
              "2  {\"Topic\": \"Phone\", \"Problem\": \"Crackling line\"...  \n",
              "3  {\"Topic\": \"Billing\", \"Problem\": \"Overcharged\",...  \n",
              "4  {\"Topic\": \"Internet\", \"Problem\": \"Slow speed\",...  "
            ],
            "text/html": [
              "\n",
              "  <div id=\"df-0aff0bb6-4210-486e-8b9b-32e08605f576\" class=\"colab-df-container\">\n",
              "    <div>\n",
              "<style scoped>\n",
              "    .dataframe tbody tr th:only-of-type {\n",
              "        vertical-align: middle;\n",
              "    }\n",
              "\n",
              "    .dataframe tbody tr th {\n",
              "        vertical-align: top;\n",
              "    }\n",
              "\n",
              "    .dataframe thead th {\n",
              "        text-align: right;\n",
              "    }\n",
              "</style>\n",
              "<table border=\"1\" class=\"dataframe\">\n",
              "  <thead>\n",
              "    <tr style=\"text-align: right;\">\n",
              "      <th></th>\n",
              "      <th>Complaints</th>\n",
              "      <th>Details</th>\n",
              "    </tr>\n",
              "  </thead>\n",
              "  <tbody>\n",
              "    <tr>\n",
              "      <th>0</th>\n",
              "      <td>Unreliable internet! Sick of constant outages...</td>\n",
              "      <td>{\"Topic\": \"Internet\", \"Problem\": \"Unreliable s...</td>\n",
              "    </tr>\n",
              "    <tr>\n",
              "      <th>1</th>\n",
              "      <td>TV signal keeps dropping during crucial momen...</td>\n",
              "      <td>{\"Topic\": \"TV\", \"Problem\": \"Signal dropout\", \"...</td>\n",
              "    </tr>\n",
              "    <tr>\n",
              "      <th>2</th>\n",
              "      <td>Phone line always crackling! Can't hear a thi...</td>\n",
              "      <td>{\"Topic\": \"Phone\", \"Problem\": \"Crackling line\"...</td>\n",
              "    </tr>\n",
              "    <tr>\n",
              "      <th>3</th>\n",
              "      <td>Ridiculous prices for such terrible service! ...</td>\n",
              "      <td>{\"Topic\": \"Billing\", \"Problem\": \"Overcharged\",...</td>\n",
              "    </tr>\n",
              "    <tr>\n",
              "      <th>4</th>\n",
              "      <td>Internet speed slower than a snail! Can't str...</td>\n",
              "      <td>{\"Topic\": \"Internet\", \"Problem\": \"Slow speed\",...</td>\n",
              "    </tr>\n",
              "  </tbody>\n",
              "</table>\n",
              "</div>\n",
              "    <div class=\"colab-df-buttons\">\n",
              "\n",
              "  <div class=\"colab-df-container\">\n",
              "    <button class=\"colab-df-convert\" onclick=\"convertToInteractive('df-0aff0bb6-4210-486e-8b9b-32e08605f576')\"\n",
              "            title=\"Convert this dataframe to an interactive table.\"\n",
              "            style=\"display:none;\">\n",
              "\n",
              "  <svg xmlns=\"http://www.w3.org/2000/svg\" height=\"24px\" viewBox=\"0 -960 960 960\">\n",
              "    <path d=\"M120-120v-720h720v720H120Zm60-500h600v-160H180v160Zm220 220h160v-160H400v160Zm0 220h160v-160H400v160ZM180-400h160v-160H180v160Zm440 0h160v-160H620v160ZM180-180h160v-160H180v160Zm440 0h160v-160H620v160Z\"/>\n",
              "  </svg>\n",
              "    </button>\n",
              "\n",
              "  <style>\n",
              "    .colab-df-container {\n",
              "      display:flex;\n",
              "      gap: 12px;\n",
              "    }\n",
              "\n",
              "    .colab-df-convert {\n",
              "      background-color: #E8F0FE;\n",
              "      border: none;\n",
              "      border-radius: 50%;\n",
              "      cursor: pointer;\n",
              "      display: none;\n",
              "      fill: #1967D2;\n",
              "      height: 32px;\n",
              "      padding: 0 0 0 0;\n",
              "      width: 32px;\n",
              "    }\n",
              "\n",
              "    .colab-df-convert:hover {\n",
              "      background-color: #E2EBFA;\n",
              "      box-shadow: 0px 1px 2px rgba(60, 64, 67, 0.3), 0px 1px 3px 1px rgba(60, 64, 67, 0.15);\n",
              "      fill: #174EA6;\n",
              "    }\n",
              "\n",
              "    .colab-df-buttons div {\n",
              "      margin-bottom: 4px;\n",
              "    }\n",
              "\n",
              "    [theme=dark] .colab-df-convert {\n",
              "      background-color: #3B4455;\n",
              "      fill: #D2E3FC;\n",
              "    }\n",
              "\n",
              "    [theme=dark] .colab-df-convert:hover {\n",
              "      background-color: #434B5C;\n",
              "      box-shadow: 0px 1px 3px 1px rgba(0, 0, 0, 0.15);\n",
              "      filter: drop-shadow(0px 1px 2px rgba(0, 0, 0, 0.3));\n",
              "      fill: #FFFFFF;\n",
              "    }\n",
              "  </style>\n",
              "\n",
              "    <script>\n",
              "      const buttonEl =\n",
              "        document.querySelector('#df-0aff0bb6-4210-486e-8b9b-32e08605f576 button.colab-df-convert');\n",
              "      buttonEl.style.display =\n",
              "        google.colab.kernel.accessAllowed ? 'block' : 'none';\n",
              "\n",
              "      async function convertToInteractive(key) {\n",
              "        const element = document.querySelector('#df-0aff0bb6-4210-486e-8b9b-32e08605f576');\n",
              "        const dataTable =\n",
              "          await google.colab.kernel.invokeFunction('convertToInteractive',\n",
              "                                                    [key], {});\n",
              "        if (!dataTable) return;\n",
              "\n",
              "        const docLinkHtml = 'Like what you see? Visit the ' +\n",
              "          '<a target=\"_blank\" href=https://colab.research.google.com/notebooks/data_table.ipynb>data table notebook</a>'\n",
              "          + ' to learn more about interactive tables.';\n",
              "        element.innerHTML = '';\n",
              "        dataTable['output_type'] = 'display_data';\n",
              "        await google.colab.output.renderOutput(dataTable, element);\n",
              "        const docLink = document.createElement('div');\n",
              "        docLink.innerHTML = docLinkHtml;\n",
              "        element.appendChild(docLink);\n",
              "      }\n",
              "    </script>\n",
              "  </div>\n",
              "\n",
              "\n",
              "<div id=\"df-cf354fc8-10de-457e-aa02-bb26a46ce1d8\">\n",
              "  <button class=\"colab-df-quickchart\" onclick=\"quickchart('df-cf354fc8-10de-457e-aa02-bb26a46ce1d8')\"\n",
              "            title=\"Suggest charts\"\n",
              "            style=\"display:none;\">\n",
              "\n",
              "<svg xmlns=\"http://www.w3.org/2000/svg\" height=\"24px\"viewBox=\"0 0 24 24\"\n",
              "     width=\"24px\">\n",
              "    <g>\n",
              "        <path d=\"M19 3H5c-1.1 0-2 .9-2 2v14c0 1.1.9 2 2 2h14c1.1 0 2-.9 2-2V5c0-1.1-.9-2-2-2zM9 17H7v-7h2v7zm4 0h-2V7h2v10zm4 0h-2v-4h2v4z\"/>\n",
              "    </g>\n",
              "</svg>\n",
              "  </button>\n",
              "\n",
              "<style>\n",
              "  .colab-df-quickchart {\n",
              "      --bg-color: #E8F0FE;\n",
              "      --fill-color: #1967D2;\n",
              "      --hover-bg-color: #E2EBFA;\n",
              "      --hover-fill-color: #174EA6;\n",
              "      --disabled-fill-color: #AAA;\n",
              "      --disabled-bg-color: #DDD;\n",
              "  }\n",
              "\n",
              "  [theme=dark] .colab-df-quickchart {\n",
              "      --bg-color: #3B4455;\n",
              "      --fill-color: #D2E3FC;\n",
              "      --hover-bg-color: #434B5C;\n",
              "      --hover-fill-color: #FFFFFF;\n",
              "      --disabled-bg-color: #3B4455;\n",
              "      --disabled-fill-color: #666;\n",
              "  }\n",
              "\n",
              "  .colab-df-quickchart {\n",
              "    background-color: var(--bg-color);\n",
              "    border: none;\n",
              "    border-radius: 50%;\n",
              "    cursor: pointer;\n",
              "    display: none;\n",
              "    fill: var(--fill-color);\n",
              "    height: 32px;\n",
              "    padding: 0;\n",
              "    width: 32px;\n",
              "  }\n",
              "\n",
              "  .colab-df-quickchart:hover {\n",
              "    background-color: var(--hover-bg-color);\n",
              "    box-shadow: 0 1px 2px rgba(60, 64, 67, 0.3), 0 1px 3px 1px rgba(60, 64, 67, 0.15);\n",
              "    fill: var(--button-hover-fill-color);\n",
              "  }\n",
              "\n",
              "  .colab-df-quickchart-complete:disabled,\n",
              "  .colab-df-quickchart-complete:disabled:hover {\n",
              "    background-color: var(--disabled-bg-color);\n",
              "    fill: var(--disabled-fill-color);\n",
              "    box-shadow: none;\n",
              "  }\n",
              "\n",
              "  .colab-df-spinner {\n",
              "    border: 2px solid var(--fill-color);\n",
              "    border-color: transparent;\n",
              "    border-bottom-color: var(--fill-color);\n",
              "    animation:\n",
              "      spin 1s steps(1) infinite;\n",
              "  }\n",
              "\n",
              "  @keyframes spin {\n",
              "    0% {\n",
              "      border-color: transparent;\n",
              "      border-bottom-color: var(--fill-color);\n",
              "      border-left-color: var(--fill-color);\n",
              "    }\n",
              "    20% {\n",
              "      border-color: transparent;\n",
              "      border-left-color: var(--fill-color);\n",
              "      border-top-color: var(--fill-color);\n",
              "    }\n",
              "    30% {\n",
              "      border-color: transparent;\n",
              "      border-left-color: var(--fill-color);\n",
              "      border-top-color: var(--fill-color);\n",
              "      border-right-color: var(--fill-color);\n",
              "    }\n",
              "    40% {\n",
              "      border-color: transparent;\n",
              "      border-right-color: var(--fill-color);\n",
              "      border-top-color: var(--fill-color);\n",
              "    }\n",
              "    60% {\n",
              "      border-color: transparent;\n",
              "      border-right-color: var(--fill-color);\n",
              "    }\n",
              "    80% {\n",
              "      border-color: transparent;\n",
              "      border-right-color: var(--fill-color);\n",
              "      border-bottom-color: var(--fill-color);\n",
              "    }\n",
              "    90% {\n",
              "      border-color: transparent;\n",
              "      border-bottom-color: var(--fill-color);\n",
              "    }\n",
              "  }\n",
              "</style>\n",
              "\n",
              "  <script>\n",
              "    async function quickchart(key) {\n",
              "      const quickchartButtonEl =\n",
              "        document.querySelector('#' + key + ' button');\n",
              "      quickchartButtonEl.disabled = true;  // To prevent multiple clicks.\n",
              "      quickchartButtonEl.classList.add('colab-df-spinner');\n",
              "      try {\n",
              "        const charts = await google.colab.kernel.invokeFunction(\n",
              "            'suggestCharts', [key], {});\n",
              "      } catch (error) {\n",
              "        console.error('Error during call to suggestCharts:', error);\n",
              "      }\n",
              "      quickchartButtonEl.classList.remove('colab-df-spinner');\n",
              "      quickchartButtonEl.classList.add('colab-df-quickchart-complete');\n",
              "    }\n",
              "    (() => {\n",
              "      let quickchartButtonEl =\n",
              "        document.querySelector('#df-cf354fc8-10de-457e-aa02-bb26a46ce1d8 button');\n",
              "      quickchartButtonEl.style.display =\n",
              "        google.colab.kernel.accessAllowed ? 'block' : 'none';\n",
              "    })();\n",
              "  </script>\n",
              "</div>\n",
              "\n",
              "    </div>\n",
              "  </div>\n"
            ],
            "application/vnd.google.colaboratory.intrinsic+json": {
              "type": "dataframe",
              "variable_name": "training_data",
              "summary": "{\n  \"name\": \"training_data\",\n  \"rows\": 67,\n  \"fields\": [\n    {\n      \"column\": \"Complaints\",\n      \"properties\": {\n        \"dtype\": \"string\",\n        \"num_unique_values\": 67,\n        \"samples\": [\n          \" Phone plan changed without consent! Unacceptable manipulation. Furious!\",\n          \" Charged for services not used! Unacceptable billing. Furious!\",\n          \" Internet speed slower than a snail! Can't stream or download anything. Frustrating!\"\n        ],\n        \"semantic_type\": \"\",\n        \"description\": \"\"\n      }\n    },\n    {\n      \"column\": \"Details\",\n      \"properties\": {\n        \"dtype\": \"string\",\n        \"num_unique_values\": 55,\n        \"samples\": [\n          \"{\\\"Topic\\\": \\\"Internet\\\", \\\"Problem\\\": \\\"Throttling\\\", \\\"Customer_Dissatisfaction_Index\\\": 85}\",\n          \"{\\\"Topic\\\": \\\"TV\\\", \\\"Problem\\\": \\\"Channels freezing\\\", \\\"Customer_Dissatisfaction_Index\\\": 85}\",\n          \"{\\\"Topic\\\": \\\"TV\\\", \\\"Problem\\\": \\\"Remote malfunction\\\", \\\"Customer_Dissatisfaction_Index\\\": 80}\"\n        ],\n        \"semantic_type\": \"\",\n        \"description\": \"\"\n      }\n    }\n  ]\n}"
            }
          },
          "metadata": {},
          "execution_count": 6
        }
      ]
    },
    {
      "cell_type": "code",
      "source": [
        "training_data.iloc[0].Details"
      ],
      "metadata": {
        "colab": {
          "base_uri": "https://localhost:8080/",
          "height": 35
        },
        "id": "Cf_MdrOvcIAg",
        "outputId": "bff1c480-9ff1-45ca-a361-a45fd12faa3c"
      },
      "execution_count": 7,
      "outputs": [
        {
          "output_type": "execute_result",
          "data": {
            "text/plain": [
              "'{\"Topic\": \"Internet\", \"Problem\": \"Unreliable service\", \"Customer_Dissatisfaction_Index\": 90}'"
            ],
            "application/vnd.google.colaboratory.intrinsic+json": {
              "type": "string"
            }
          },
          "metadata": {},
          "execution_count": 7
        }
      ]
    },
    {
      "cell_type": "markdown",
      "source": [
        "**Converting the Complaints records to json**\n",
        "\n",
        "To be able to use the data for the fine-tuning purpose, we first need to convert each row of the dataframe into the following format:\n",
        "\n",
        "<pre>\n",
        "<code>\n",
        "{\n",
        "  <span style=\"color: blue;\">\"messages\"</span>: [\n",
        "    {\n",
        "      <span style=\"color: blue;\">\"role\"</span>: <span style=\"color: red;\">\"system\"</span>,\n",
        "      <span style=\"color: blue;\">\"content\"</span>: \"<span style=\"color: green;\">Providing context about the user's prompt.\n",
        "                  It may include information about the task,\n",
        "                  instructions, or background details relevant\n",
        "                  to the conversation.</span>\"\n",
        "    },\n",
        "    {\n",
        "      <span style=\"color: blue;\">\"role\"</span>: <span style=\"color: red;\">\"user\"</span>,\n",
        "      <span style=\"color: blue;\">\"content\"</span>: \"<span style=\"color: green;\">the prompt or input provided by the user,\n",
        "                  which typically initiates the conversation with the assistant.</span>\"\n",
        "    },\n",
        "    {\n",
        "      <span style=\"color: blue;\">\"role\"</span>: <span style=\"color: red;\">\"assistant\"</span>,\n",
        "      <span style=\"color: blue;\">\"content\"</span>: \"<span style=\"color: green;\">The desired response or output generated by\n",
        "                  the assistant in response to the user's prompt.</span>\"\n",
        "    }\n",
        "  ]\n",
        "}\n",
        "</code>\n",
        "</pre>\n",
        "\n",
        "Let's get started!"
      ],
      "metadata": {
        "id": "uIK863G-qvMN"
      }
    },
    {
      "cell_type": "markdown",
      "source": [
        "Let's define a method that get's a row of the dataframe and convert it into the json format"
      ],
      "metadata": {
        "id": "fWVCfuvRjdXa"
      }
    },
    {
      "cell_type": "code",
      "source": [
        "def save_as_json(row):\n",
        "\n",
        "  system_content = \"\"\"\n",
        "      Given a customer complaint text, extract and return the following information in json (dict) format:\n",
        "      - Topic: The product/department that the customer has a complaint about.\n",
        "      - Problem: A two or three-word description of what exactly the problem is.\n",
        "      - Customer_Dissatisfaction_Index: is a number between 0 and 100 showing\n",
        "             how angry the customer is about the problem.\n",
        "  \"\"\"\n",
        "\n",
        "  formatted_data = {\n",
        "        \"messages\": [\n",
        "            {\"role\": \"system\", \"content\": system_content},\n",
        "            {\"role\": \"user\", \"content\": row.Complaints},\n",
        "            {\"role\": \"assistant\", \"content\": row.Details}\n",
        "        ]\n",
        "      }\n",
        "\n",
        "  with open(\"training_data.json\", \"a\") as json_file:\n",
        "        json.dump(formatted_data, json_file)\n",
        "        json_file.write(\"\\n\")"
      ],
      "metadata": {
        "id": "-tHnvRamq5NK"
      },
      "execution_count": 8,
      "outputs": []
    },
    {
      "cell_type": "markdown",
      "source": [
        "Now let's use of this method to generate the `training_data.json`"
      ],
      "metadata": {
        "id": "K3haPgzI-ClF"
      }
    },
    {
      "cell_type": "code",
      "source": [
        "for index, row in training_data.iterrows():\n",
        "  save_as_json(row)"
      ],
      "metadata": {
        "id": "LNOMxwSX8dE4"
      },
      "execution_count": 9,
      "outputs": []
    },
    {
      "cell_type": "markdown",
      "source": [
        "### Task 3 - Fine-tune GPT 3.5 based on our training data"
      ],
      "metadata": {
        "id": "Jo9HFdW0jput"
      }
    },
    {
      "cell_type": "markdown",
      "source": [
        "Let's import the json file we prepared as our training data"
      ],
      "metadata": {
        "id": "h4TMhzSNj4hH"
      }
    },
    {
      "cell_type": "code",
      "source": [
        "data_file = client.files.create(\n",
        "    file = open('training_data.json', 'rb'),\n",
        "    purpose = 'fine-tune'\n",
        ")\n",
        "data_file"
      ],
      "metadata": {
        "id": "ExJ2cRU5-XtH",
        "colab": {
          "base_uri": "https://localhost:8080/"
        },
        "outputId": "3f6f1a62-550f-474b-8742-3b4884f8f2dd"
      },
      "execution_count": 10,
      "outputs": [
        {
          "output_type": "execute_result",
          "data": {
            "text/plain": [
              "FileObject(id='file-re5kAKjsRFZg7SAYnEZ0HiEv', bytes=46722, created_at=1715885133, filename='training_data.json', object='file', purpose='fine-tune', status='processed', status_details=None)"
            ]
          },
          "metadata": {},
          "execution_count": 10
        }
      ]
    },
    {
      "cell_type": "markdown",
      "source": [
        "Create the Fine Tuning Job"
      ],
      "metadata": {
        "id": "TiBcO3I0kIU5"
      }
    },
    {
      "cell_type": "code",
      "source": [
        "fine_tuning = client.fine_tuning.jobs.create(\n",
        "    training_file= data_file.id,\n",
        "    model = 'gpt-3.5-turbo',\n",
        "    hyperparameters = {\n",
        "        \"n_epochs\" : 'auto',\n",
        "    }\n",
        ")\n",
        "fine_tuning"
      ],
      "metadata": {
        "id": "BXJB348zkMSx",
        "colab": {
          "base_uri": "https://localhost:8080/"
        },
        "outputId": "130f8473-3202-4de9-bd05-249356f087fe"
      },
      "execution_count": 23,
      "outputs": [
        {
          "output_type": "execute_result",
          "data": {
            "text/plain": [
              "FineTuningJob(id='ftjob-lVVz0i7HzMl88dwFl6jitZ88', created_at=1715886085, error=Error(code=None, message=None, param=None), fine_tuned_model=None, finished_at=None, hyperparameters=Hyperparameters(n_epochs='auto', batch_size='auto', learning_rate_multiplier='auto'), model='gpt-3.5-turbo-0125', object='fine_tuning.job', organization_id='org-5ComxuutKsT02INHkQ63j0Ec', result_files=[], status='validating_files', trained_tokens=None, training_file='file-re5kAKjsRFZg7SAYnEZ0HiEv', validation_file=None, user_provided_suffix=None, seed=911031212, estimated_finish=None, integrations=[])"
            ]
          },
          "metadata": {},
          "execution_count": 23
        }
      ]
    },
    {
      "cell_type": "markdown",
      "source": [
        "Let's retrieve the state of the fine-tune"
      ],
      "metadata": {
        "id": "u7XWcO_7kzY6"
      }
    },
    {
      "cell_type": "code",
      "source": [
        "while True:\n",
        "  time.sleep(2)\n",
        "  retrieved_job = client.fine_tuning.jobs.retrieve(fine_tuning.id)\n",
        "  status = retrieved_job.status\n",
        "  print(status)\n",
        "\n",
        "  if status == 'succeeded':\n",
        "    print('Job is done')\n",
        "    break"
      ],
      "metadata": {
        "id": "hpbHjWu3AS4k",
        "colab": {
          "base_uri": "https://localhost:8080/"
        },
        "outputId": "e018d7b1-028d-4870-e48a-12661fcca36e"
      },
      "execution_count": 24,
      "outputs": [
        {
          "output_type": "stream",
          "name": "stdout",
          "text": [
            "validating_files\n",
            "queued\n",
            "running\n",
            "running\n",
            "running\n",
            "running\n",
            "running\n",
            "running\n",
            "running\n",
            "running\n",
            "running\n",
            "running\n",
            "running\n",
            "running\n",
            "running\n",
            "running\n",
            "running\n",
            "running\n",
            "running\n",
            "running\n",
            "running\n",
            "running\n",
            "running\n",
            "running\n",
            "running\n",
            "running\n",
            "running\n",
            "running\n",
            "running\n",
            "running\n",
            "running\n",
            "running\n",
            "running\n",
            "running\n",
            "running\n",
            "running\n",
            "running\n",
            "running\n",
            "running\n",
            "running\n",
            "running\n",
            "running\n",
            "running\n",
            "running\n",
            "running\n",
            "running\n",
            "running\n",
            "running\n",
            "running\n",
            "running\n",
            "running\n",
            "running\n",
            "running\n",
            "running\n",
            "running\n",
            "running\n",
            "running\n",
            "running\n",
            "running\n",
            "running\n",
            "running\n",
            "running\n",
            "running\n",
            "running\n",
            "running\n",
            "running\n",
            "running\n",
            "running\n",
            "running\n",
            "running\n",
            "running\n",
            "running\n",
            "running\n",
            "running\n",
            "running\n",
            "running\n",
            "running\n",
            "running\n",
            "running\n",
            "running\n",
            "running\n",
            "running\n",
            "running\n",
            "running\n",
            "running\n",
            "running\n",
            "running\n",
            "running\n",
            "running\n",
            "running\n",
            "running\n",
            "running\n",
            "running\n",
            "running\n",
            "running\n",
            "running\n",
            "running\n",
            "running\n",
            "running\n",
            "running\n",
            "running\n",
            "running\n",
            "running\n",
            "running\n",
            "running\n",
            "running\n",
            "running\n",
            "running\n",
            "running\n",
            "running\n",
            "running\n",
            "running\n",
            "running\n",
            "running\n",
            "running\n",
            "running\n",
            "running\n",
            "running\n",
            "running\n",
            "running\n",
            "running\n",
            "running\n",
            "running\n",
            "running\n",
            "running\n",
            "running\n",
            "running\n",
            "running\n",
            "running\n",
            "running\n",
            "running\n",
            "running\n",
            "running\n",
            "running\n",
            "running\n",
            "running\n",
            "running\n",
            "running\n",
            "running\n",
            "running\n",
            "running\n",
            "running\n",
            "running\n",
            "running\n",
            "running\n",
            "running\n",
            "running\n",
            "running\n",
            "running\n",
            "running\n",
            "running\n",
            "running\n",
            "running\n",
            "running\n",
            "running\n",
            "running\n",
            "running\n",
            "running\n",
            "running\n",
            "running\n",
            "running\n",
            "running\n",
            "running\n",
            "running\n",
            "running\n",
            "running\n",
            "running\n",
            "running\n",
            "running\n",
            "running\n",
            "running\n",
            "running\n",
            "running\n",
            "running\n",
            "running\n",
            "running\n",
            "running\n",
            "running\n",
            "running\n",
            "running\n",
            "running\n",
            "running\n",
            "running\n",
            "running\n",
            "running\n",
            "running\n",
            "running\n",
            "running\n",
            "running\n",
            "running\n",
            "running\n",
            "running\n",
            "running\n",
            "running\n",
            "running\n",
            "running\n",
            "running\n",
            "succeeded\n",
            "Job is done\n"
          ]
        }
      ]
    },
    {
      "cell_type": "markdown",
      "source": [
        "### Task 4 - Evaluate model"
      ],
      "metadata": {
        "id": "4XB-sFc3kO4A"
      }
    },
    {
      "cell_type": "markdown",
      "source": [
        "Let's retrieve the event messages to check out the learning process of our fine-tuning job."
      ],
      "metadata": {
        "id": "p_3bNsW3k_eR"
      }
    },
    {
      "cell_type": "code",
      "source": [
        "client.fine_tuning.jobs.list_events(fine_tuning_job_id=retrieved_job.id, limit=100).data"
      ],
      "metadata": {
        "id": "O2bif68aIEGJ",
        "colab": {
          "base_uri": "https://localhost:8080/"
        },
        "outputId": "02544ced-3579-4dff-8276-5b8f7da832c7"
      },
      "execution_count": 25,
      "outputs": [
        {
          "output_type": "execute_result",
          "data": {
            "text/plain": [
              "[FineTuningJobEvent(id='ftevent-P2EtGvHTO5WxjisCHwdY2KNQ', created_at=1715886501, level='info', message='The job has successfully completed', object='fine_tuning.job.event', data={}, type='message'),\n",
              " FineTuningJobEvent(id='ftevent-ySqMGHGdTBJOdSuQY89Xs3bX', created_at=1715886499, level='info', message='New fine-tuned model created: ft:gpt-3.5-turbo-0125:onyx::9PakcPo0', object='fine_tuning.job.event', data={}, type='message'),\n",
              " FineTuningJobEvent(id='ftevent-3DQukdYe66Bh7cy9rHBvhAmz', created_at=1715886499, level='info', message='Checkpoint created at step 134 with Snapshot ID: ft:gpt-3.5-turbo-0125:onyx::9Pakczx4:ckpt-step-134', object='fine_tuning.job.event', data={}, type='message'),\n",
              " FineTuningJobEvent(id='ftevent-D2UBcI53Thi9AhrnKaRPsajk', created_at=1715886499, level='info', message='Checkpoint created at step 67 with Snapshot ID: ft:gpt-3.5-turbo-0125:onyx::9Pakc6Dl:ckpt-step-67', object='fine_tuning.job.event', data={}, type='message'),\n",
              " FineTuningJobEvent(id='ftevent-zSV0bJFhVIyzxCWZVnRrVmEr', created_at=1715886495, level='info', message='Step 201/201: training loss=0.06', object='fine_tuning.job.event', data={'step': 201, 'train_loss': 0.05842471122741699, 'total_steps': 201, 'train_mean_token_accuracy': 0.9583333134651184}, type='metrics'),\n",
              " FineTuningJobEvent(id='ftevent-w4Ed39tNEkRZDvUEXipXI43t', created_at=1715886495, level='info', message='Step 200/201: training loss=0.04', object='fine_tuning.job.event', data={'step': 200, 'train_loss': 0.04181427136063576, 'total_steps': 201, 'train_mean_token_accuracy': 0.9599999785423279}, type='metrics'),\n",
              " FineTuningJobEvent(id='ftevent-e449co4y5KetV5jLKKTehJxE', created_at=1715886493, level='info', message='Step 199/201: training loss=0.00', object='fine_tuning.job.event', data={'step': 199, 'train_loss': 2.896344312830479e-06, 'total_steps': 201, 'train_mean_token_accuracy': 1.0}, type='metrics'),\n",
              " FineTuningJobEvent(id='ftevent-SrLGw2bMyoloq7LP721IIZ2N', created_at=1715886493, level='info', message='Step 198/201: training loss=0.01', object='fine_tuning.job.event', data={'step': 198, 'train_loss': 0.010410385206341743, 'total_steps': 201, 'train_mean_token_accuracy': 1.0}, type='metrics'),\n",
              " FineTuningJobEvent(id='ftevent-c8qW2F1nN3viOUJh1XifvGiJ', created_at=1715886491, level='info', message='Step 197/201: training loss=0.12', object='fine_tuning.job.event', data={'step': 197, 'train_loss': 0.12481456249952316, 'total_steps': 201, 'train_mean_token_accuracy': 0.9629629850387573}, type='metrics'),\n",
              " FineTuningJobEvent(id='ftevent-JsWS0jdKoFnDlI2hNtetIQGe', created_at=1715886489, level='info', message='Step 196/201: training loss=0.36', object='fine_tuning.job.event', data={'step': 196, 'train_loss': 0.3589533269405365, 'total_steps': 201, 'train_mean_token_accuracy': 0.9200000166893005}, type='metrics'),\n",
              " FineTuningJobEvent(id='ftevent-Nk6U6vIhAnETq8dnHbdLGX0E', created_at=1715886487, level='info', message='Step 195/201: training loss=0.28', object='fine_tuning.job.event', data={'step': 195, 'train_loss': 0.2819384038448334, 'total_steps': 201, 'train_mean_token_accuracy': 0.8846153616905212}, type='metrics'),\n",
              " FineTuningJobEvent(id='ftevent-O35fxy3gTrNWlgdHhEuflemO', created_at=1715886487, level='info', message='Step 194/201: training loss=0.08', object='fine_tuning.job.event', data={'step': 194, 'train_loss': 0.08181167393922806, 'total_steps': 201, 'train_mean_token_accuracy': 0.9599999785423279}, type='metrics'),\n",
              " FineTuningJobEvent(id='ftevent-G9vmmT43g8HCCjMfoS3KjzBK', created_at=1715886485, level='info', message='Step 193/201: training loss=0.13', object='fine_tuning.job.event', data={'step': 193, 'train_loss': 0.13092128932476044, 'total_steps': 201, 'train_mean_token_accuracy': 0.9615384340286255}, type='metrics'),\n",
              " FineTuningJobEvent(id='ftevent-Go5tpxU0JyDg2Xy1B2DWorz0', created_at=1715886483, level='info', message='Step 192/201: training loss=0.00', object='fine_tuning.job.event', data={'step': 192, 'train_loss': 2.825701585607021e-06, 'total_steps': 201, 'train_mean_token_accuracy': 1.0}, type='metrics'),\n",
              " FineTuningJobEvent(id='ftevent-gCrp21mUAPUgYOUrtPYcc9Bv', created_at=1715886481, level='info', message='Step 191/201: training loss=0.01', object='fine_tuning.job.event', data={'step': 191, 'train_loss': 0.01248214766383171, 'total_steps': 201, 'train_mean_token_accuracy': 1.0}, type='metrics'),\n",
              " FineTuningJobEvent(id='ftevent-rfVSFLPh546d6pJ4OxJYyTlV', created_at=1715886481, level='info', message='Step 190/201: training loss=0.01', object='fine_tuning.job.event', data={'step': 190, 'train_loss': 0.010260543785989285, 'total_steps': 201, 'train_mean_token_accuracy': 1.0}, type='metrics'),\n",
              " FineTuningJobEvent(id='ftevent-1FuYr7tMSMBHGQWxBx7l9ofE', created_at=1715886479, level='info', message='Step 189/201: training loss=0.11', object='fine_tuning.job.event', data={'step': 189, 'train_loss': 0.11307624727487564, 'total_steps': 201, 'train_mean_token_accuracy': 0.9629629850387573}, type='metrics'),\n",
              " FineTuningJobEvent(id='ftevent-2WfYc8KhPqQvH95eMLIGsp0s', created_at=1715886477, level='info', message='Step 188/201: training loss=0.00', object='fine_tuning.job.event', data={'step': 188, 'train_loss': 3.885339992848458e-06, 'total_steps': 201, 'train_mean_token_accuracy': 1.0}, type='metrics'),\n",
              " FineTuningJobEvent(id='ftevent-b6lm7XiPkqaubx10z6kT3sR8', created_at=1715886475, level='info', message='Step 187/201: training loss=0.15', object='fine_tuning.job.event', data={'step': 187, 'train_loss': 0.1477930247783661, 'total_steps': 201, 'train_mean_token_accuracy': 0.9629629850387573}, type='metrics'),\n",
              " FineTuningJobEvent(id='ftevent-DszCxh15JPZuhA4796P1SUlz', created_at=1715886475, level='info', message='Step 186/201: training loss=0.02', object='fine_tuning.job.event', data={'step': 186, 'train_loss': 0.017010651528835297, 'total_steps': 201, 'train_mean_token_accuracy': 1.0}, type='metrics'),\n",
              " FineTuningJobEvent(id='ftevent-8D4Dv4gTRmfRDGhEVgkOjzRI', created_at=1715886473, level='info', message='Step 185/201: training loss=0.00', object='fine_tuning.job.event', data={'step': 185, 'train_loss': 3.7440547657752177e-06, 'total_steps': 201, 'train_mean_token_accuracy': 1.0}, type='metrics'),\n",
              " FineTuningJobEvent(id='ftevent-ppS5byiznXWo2e2yAYXpkOob', created_at=1715886471, level='info', message='Step 184/201: training loss=0.13', object='fine_tuning.job.event', data={'step': 184, 'train_loss': 0.13194648921489716, 'total_steps': 201, 'train_mean_token_accuracy': 0.9629629850387573}, type='metrics'),\n",
              " FineTuningJobEvent(id='ftevent-pBZZDaDRyVYGmfulBYqVPhIb', created_at=1715886469, level='info', message='Step 183/201: training loss=0.03', object='fine_tuning.job.event', data={'step': 183, 'train_loss': 0.026600081473588943, 'total_steps': 201, 'train_mean_token_accuracy': 1.0}, type='metrics'),\n",
              " FineTuningJobEvent(id='ftevent-ZsAXPAW7aM8TtLIhrK3PJ1N9', created_at=1715886469, level='info', message='Step 182/201: training loss=0.03', object='fine_tuning.job.event', data={'step': 182, 'train_loss': 0.029189668595790863, 'total_steps': 201, 'train_mean_token_accuracy': 0.9655172228813171}, type='metrics'),\n",
              " FineTuningJobEvent(id='ftevent-iznH2ery7pxa3hUEM4dS7Zwo', created_at=1715886467, level='info', message='Step 181/201: training loss=0.06', object='fine_tuning.job.event', data={'step': 181, 'train_loss': 0.06177040562033653, 'total_steps': 201, 'train_mean_token_accuracy': 0.9629629850387573}, type='metrics'),\n",
              " FineTuningJobEvent(id='ftevent-bnHNPf74pSgmpcvZa7lhgwXp', created_at=1715886465, level='info', message='Step 180/201: training loss=0.02', object='fine_tuning.job.event', data={'step': 180, 'train_loss': 0.01883520931005478, 'total_steps': 201, 'train_mean_token_accuracy': 1.0}, type='metrics'),\n",
              " FineTuningJobEvent(id='ftevent-a4bqGMdLPSq4c8DBYs3OJyk9', created_at=1715886463, level='info', message='Step 179/201: training loss=0.07', object='fine_tuning.job.event', data={'step': 179, 'train_loss': 0.07289949804544449, 'total_steps': 201, 'train_mean_token_accuracy': 0.9629629850387573}, type='metrics'),\n",
              " FineTuningJobEvent(id='ftevent-TTx5IoxJUigMAJxUhbsQioAp', created_at=1715886463, level='info', message='Step 178/201: training loss=0.38', object='fine_tuning.job.event', data={'step': 178, 'train_loss': 0.3809034824371338, 'total_steps': 201, 'train_mean_token_accuracy': 0.8399999737739563}, type='metrics'),\n",
              " FineTuningJobEvent(id='ftevent-TPUeR1AJkLW3ZMfz4rdHBV7I', created_at=1715886461, level='info', message='Step 177/201: training loss=0.02', object='fine_tuning.job.event', data={'step': 177, 'train_loss': 0.0214413870126009, 'total_steps': 201, 'train_mean_token_accuracy': 1.0}, type='metrics'),\n",
              " FineTuningJobEvent(id='ftevent-RyJE463gkAYX6avHKCRqSLFu', created_at=1715886459, level='info', message='Step 176/201: training loss=0.04', object='fine_tuning.job.event', data={'step': 176, 'train_loss': 0.04456028714776039, 'total_steps': 201, 'train_mean_token_accuracy': 0.9615384340286255}, type='metrics'),\n",
              " FineTuningJobEvent(id='ftevent-SjN77gCB8vmBDHUOQE7Xu0yd', created_at=1715886457, level='info', message='Step 175/201: training loss=0.08', object='fine_tuning.job.event', data={'step': 175, 'train_loss': 0.07500679045915604, 'total_steps': 201, 'train_mean_token_accuracy': 0.9599999785423279}, type='metrics'),\n",
              " FineTuningJobEvent(id='ftevent-Pge9xxpxxSLKLi28GMht0qcN', created_at=1715886457, level='info', message='Step 174/201: training loss=0.21', object='fine_tuning.job.event', data={'step': 174, 'train_loss': 0.20934036374092102, 'total_steps': 201, 'train_mean_token_accuracy': 0.9599999785423279}, type='metrics'),\n",
              " FineTuningJobEvent(id='ftevent-fjL7AYnlUb5ObGrRImYTWFad', created_at=1715886454, level='info', message='Step 173/201: training loss=0.08', object='fine_tuning.job.event', data={'step': 173, 'train_loss': 0.08432536572217941, 'total_steps': 201, 'train_mean_token_accuracy': 0.9629629850387573}, type='metrics'),\n",
              " FineTuningJobEvent(id='ftevent-Ps2EpGckBTYNkR2BmrAqi8B6', created_at=1715886452, level='info', message='Step 172/201: training loss=0.03', object='fine_tuning.job.event', data={'step': 172, 'train_loss': 0.030432773754000664, 'total_steps': 201, 'train_mean_token_accuracy': 1.0}, type='metrics'),\n",
              " FineTuningJobEvent(id='ftevent-2nQ1ampYj61kiwHk2Kz1Ni8Z', created_at=1715886450, level='info', message='Step 171/201: training loss=0.01', object='fine_tuning.job.event', data={'step': 171, 'train_loss': 0.010971875861287117, 'total_steps': 201, 'train_mean_token_accuracy': 1.0}, type='metrics'),\n",
              " FineTuningJobEvent(id='ftevent-bF8rAVtYJ6fFRdhCEIodjS97', created_at=1715886448, level='info', message='Step 170/201: training loss=0.03', object='fine_tuning.job.event', data={'step': 170, 'train_loss': 0.03105361945927143, 'total_steps': 201, 'train_mean_token_accuracy': 1.0}, type='metrics'),\n",
              " FineTuningJobEvent(id='ftevent-Yr66vGWNDZLDNCx2Lhx6bsOt', created_at=1715886448, level='info', message='Step 169/201: training loss=0.02', object='fine_tuning.job.event', data={'step': 169, 'train_loss': 0.018145598471164703, 'total_steps': 201, 'train_mean_token_accuracy': 1.0}, type='metrics'),\n",
              " FineTuningJobEvent(id='ftevent-NGqlM9Jkhdrbp7j8if9n2c44', created_at=1715886446, level='info', message='Step 168/201: training loss=0.02', object='fine_tuning.job.event', data={'step': 168, 'train_loss': 0.021382903680205345, 'total_steps': 201, 'train_mean_token_accuracy': 1.0}, type='metrics'),\n",
              " FineTuningJobEvent(id='ftevent-CaUd1rfZvcIixHUNx73eC3Je', created_at=1715886444, level='info', message='Step 167/201: training loss=0.06', object='fine_tuning.job.event', data={'step': 167, 'train_loss': 0.06052699312567711, 'total_steps': 201, 'train_mean_token_accuracy': 0.9615384340286255}, type='metrics'),\n",
              " FineTuningJobEvent(id='ftevent-OtRr7BKtmMcwiUzp5r52fMok', created_at=1715886442, level='info', message='Step 166/201: training loss=0.13', object='fine_tuning.job.event', data={'step': 166, 'train_loss': 0.12826135754585266, 'total_steps': 201, 'train_mean_token_accuracy': 0.9259259104728699}, type='metrics'),\n",
              " FineTuningJobEvent(id='ftevent-HuqzgO1hGqUiKEIraVrYUKGu', created_at=1715886442, level='info', message='Step 165/201: training loss=0.02', object='fine_tuning.job.event', data={'step': 165, 'train_loss': 0.017050353810191154, 'total_steps': 201, 'train_mean_token_accuracy': 1.0}, type='metrics'),\n",
              " FineTuningJobEvent(id='ftevent-FWVHq5GfrFYSBvKCJpoXCr8O', created_at=1715886440, level='info', message='Step 164/201: training loss=0.21', object='fine_tuning.job.event', data={'step': 164, 'train_loss': 0.20961415767669678, 'total_steps': 201, 'train_mean_token_accuracy': 0.9259259104728699}, type='metrics'),\n",
              " FineTuningJobEvent(id='ftevent-4W1EYuBxjDQunHAjEbVh6gf3', created_at=1715886438, level='info', message='Step 163/201: training loss=0.18', object='fine_tuning.job.event', data={'step': 163, 'train_loss': 0.184697687625885, 'total_steps': 201, 'train_mean_token_accuracy': 0.9259259104728699}, type='metrics'),\n",
              " FineTuningJobEvent(id='ftevent-Qwv4aVITaQ1PlkNrk81eRKbo', created_at=1715886438, level='info', message='Step 162/201: training loss=0.12', object='fine_tuning.job.event', data={'step': 162, 'train_loss': 0.11613523215055466, 'total_steps': 201, 'train_mean_token_accuracy': 0.9615384340286255}, type='metrics'),\n",
              " FineTuningJobEvent(id='ftevent-L6NGdPegfAZapnwtIbWz4mEb', created_at=1715886436, level='info', message='Step 161/201: training loss=0.05', object='fine_tuning.job.event', data={'step': 161, 'train_loss': 0.05129814147949219, 'total_steps': 201, 'train_mean_token_accuracy': 0.9642857313156128}, type='metrics'),\n",
              " FineTuningJobEvent(id='ftevent-YF2es1SM7zAITfJjNwNln7j5', created_at=1715886434, level='info', message='Step 160/201: training loss=0.08', object='fine_tuning.job.event', data={'step': 160, 'train_loss': 0.07619582861661911, 'total_steps': 201, 'train_mean_token_accuracy': 0.9599999785423279}, type='metrics'),\n",
              " FineTuningJobEvent(id='ftevent-DLGnKGzBOCEgfHolN8UobwAX', created_at=1715886432, level='info', message='Step 159/201: training loss=0.02', object='fine_tuning.job.event', data={'step': 159, 'train_loss': 0.01624826341867447, 'total_steps': 201, 'train_mean_token_accuracy': 1.0}, type='metrics'),\n",
              " FineTuningJobEvent(id='ftevent-slUizkey7oVzkMsO1lNyfpE9', created_at=1715886432, level='info', message='Step 158/201: training loss=0.05', object='fine_tuning.job.event', data={'step': 158, 'train_loss': 0.053147658705711365, 'total_steps': 201, 'train_mean_token_accuracy': 0.9599999785423279}, type='metrics'),\n",
              " FineTuningJobEvent(id='ftevent-gX99YciS8XmG9wJnebnfFHhy', created_at=1715886430, level='info', message='Step 157/201: training loss=0.05', object='fine_tuning.job.event', data={'step': 157, 'train_loss': 0.045611895620822906, 'total_steps': 201, 'train_mean_token_accuracy': 1.0}, type='metrics'),\n",
              " FineTuningJobEvent(id='ftevent-IHWkK3f2gXAQ4xw9AWmMuamo', created_at=1715886428, level='info', message='Step 156/201: training loss=0.05', object='fine_tuning.job.event', data={'step': 156, 'train_loss': 0.050017744302749634, 'total_steps': 201, 'train_mean_token_accuracy': 0.9629629850387573}, type='metrics'),\n",
              " FineTuningJobEvent(id='ftevent-wpPZD1ffbYZ1PK4Eawafo47t', created_at=1715886426, level='info', message='Step 155/201: training loss=0.02', object='fine_tuning.job.event', data={'step': 155, 'train_loss': 0.021169891580939293, 'total_steps': 201, 'train_mean_token_accuracy': 1.0}, type='metrics'),\n",
              " FineTuningJobEvent(id='ftevent-iNoiTxpANZrYMmGbcxjF6htX', created_at=1715886426, level='info', message='Step 154/201: training loss=0.04', object='fine_tuning.job.event', data={'step': 154, 'train_loss': 0.035662587732076645, 'total_steps': 201, 'train_mean_token_accuracy': 0.9666666388511658}, type='metrics'),\n",
              " FineTuningJobEvent(id='ftevent-KlTIaDpQl6SJFpMr7hRfPnyW', created_at=1715886424, level='info', message='Step 153/201: training loss=0.03', object='fine_tuning.job.event', data={'step': 153, 'train_loss': 0.029724350199103355, 'total_steps': 201, 'train_mean_token_accuracy': 1.0}, type='metrics'),\n",
              " FineTuningJobEvent(id='ftevent-8x1xTOyYyDt7k5k38z1lSMfy', created_at=1715886422, level='info', message='Step 152/201: training loss=0.07', object='fine_tuning.job.event', data={'step': 152, 'train_loss': 0.06697171181440353, 'total_steps': 201, 'train_mean_token_accuracy': 0.9642857313156128}, type='metrics'),\n",
              " FineTuningJobEvent(id='ftevent-b6DnOLA51VygvgjogbBLx5Ef', created_at=1715886420, level='info', message='Step 151/201: training loss=0.00', object='fine_tuning.job.event', data={'step': 151, 'train_loss': 1.9002844055648893e-05, 'total_steps': 201, 'train_mean_token_accuracy': 1.0}, type='metrics'),\n",
              " FineTuningJobEvent(id='ftevent-7qdJyoI9c7d17WmLSnslFGfG', created_at=1715886420, level='info', message='Step 150/201: training loss=0.05', object='fine_tuning.job.event', data={'step': 150, 'train_loss': 0.04795974865555763, 'total_steps': 201, 'train_mean_token_accuracy': 0.9599999785423279}, type='metrics'),\n",
              " FineTuningJobEvent(id='ftevent-kS8QyGurzlh1QCr6YzKANPpR', created_at=1715886418, level='info', message='Step 149/201: training loss=0.00', object='fine_tuning.job.event', data={'step': 149, 'train_loss': 4.662407809519209e-05, 'total_steps': 201, 'train_mean_token_accuracy': 1.0}, type='metrics'),\n",
              " FineTuningJobEvent(id='ftevent-VPwHT4aX4mdR7hi5HHktcjJC', created_at=1715886416, level='info', message='Step 148/201: training loss=0.06', object='fine_tuning.job.event', data={'step': 148, 'train_loss': 0.05892159417271614, 'total_steps': 201, 'train_mean_token_accuracy': 0.9615384340286255}, type='metrics'),\n",
              " FineTuningJobEvent(id='ftevent-NgWzrcxWHSjQQzPVqNQW6Ktp', created_at=1715886414, level='info', message='Step 147/201: training loss=0.02', object='fine_tuning.job.event', data={'step': 147, 'train_loss': 0.018643174320459366, 'total_steps': 201, 'train_mean_token_accuracy': 1.0}, type='metrics'),\n",
              " FineTuningJobEvent(id='ftevent-i8Ce6izpzTIHfM95RuVBPDcB', created_at=1715886414, level='info', message='Step 146/201: training loss=0.04', object='fine_tuning.job.event', data={'step': 146, 'train_loss': 0.04318597540259361, 'total_steps': 201, 'train_mean_token_accuracy': 0.9629629850387573}, type='metrics'),\n",
              " FineTuningJobEvent(id='ftevent-52oTIQ4HJpW0LUhrOyWUWeqd', created_at=1715886412, level='info', message='Step 145/201: training loss=0.04', object='fine_tuning.job.event', data={'step': 145, 'train_loss': 0.043521735817193985, 'total_steps': 201, 'train_mean_token_accuracy': 0.9615384340286255}, type='metrics'),\n",
              " FineTuningJobEvent(id='ftevent-gdLlB3M297064mvJNk70pKJH', created_at=1715886410, level='info', message='Step 144/201: training loss=0.08', object='fine_tuning.job.event', data={'step': 144, 'train_loss': 0.07658470422029495, 'total_steps': 201, 'train_mean_token_accuracy': 0.9200000166893005}, type='metrics'),\n",
              " FineTuningJobEvent(id='ftevent-xvutVdujccHKTTfPN73xw5Lt', created_at=1715886408, level='info', message='Step 143/201: training loss=0.00', object='fine_tuning.job.event', data={'step': 143, 'train_loss': 2.832765858329367e-05, 'total_steps': 201, 'train_mean_token_accuracy': 1.0}, type='metrics'),\n",
              " FineTuningJobEvent(id='ftevent-SYdrlsHI5E5mDHQWgyCogJS0', created_at=1715886408, level='info', message='Step 142/201: training loss=0.02', object='fine_tuning.job.event', data={'step': 142, 'train_loss': 0.015319237485527992, 'total_steps': 201, 'train_mean_token_accuracy': 1.0}, type='metrics'),\n",
              " FineTuningJobEvent(id='ftevent-xx8ERROFHDBxM9FF9c6UN0kg', created_at=1715886406, level='info', message='Step 141/201: training loss=0.05', object='fine_tuning.job.event', data={'step': 141, 'train_loss': 0.04685960337519646, 'total_steps': 201, 'train_mean_token_accuracy': 0.9642857313156128}, type='metrics'),\n",
              " FineTuningJobEvent(id='ftevent-mnCQppntpDRi9JO1YBi07HBd', created_at=1715886404, level='info', message='Step 140/201: training loss=0.05', object='fine_tuning.job.event', data={'step': 140, 'train_loss': 0.05431358516216278, 'total_steps': 201, 'train_mean_token_accuracy': 0.9615384340286255}, type='metrics'),\n",
              " FineTuningJobEvent(id='ftevent-EcIblpGO8FfIUFlfgq0uUf9f', created_at=1715886402, level='info', message='Step 139/201: training loss=0.01', object='fine_tuning.job.event', data={'step': 139, 'train_loss': 0.013725493103265762, 'total_steps': 201, 'train_mean_token_accuracy': 1.0}, type='metrics'),\n",
              " FineTuningJobEvent(id='ftevent-UrEg9JLA68RUgKDYRxfF4ade', created_at=1715886402, level='info', message='Step 138/201: training loss=0.04', object='fine_tuning.job.event', data={'step': 138, 'train_loss': 0.04150701314210892, 'total_steps': 201, 'train_mean_token_accuracy': 0.9629629850387573}, type='metrics'),\n",
              " FineTuningJobEvent(id='ftevent-zhmiI4dI8jrQvE9CLhotkY50', created_at=1715886400, level='info', message='Step 137/201: training loss=0.12', object='fine_tuning.job.event', data={'step': 137, 'train_loss': 0.12439588457345963, 'total_steps': 201, 'train_mean_token_accuracy': 0.9615384340286255}, type='metrics'),\n",
              " FineTuningJobEvent(id='ftevent-vyTeoQHVPFVe4m8IOFqrrzF3', created_at=1715886398, level='info', message='Step 136/201: training loss=0.23', object='fine_tuning.job.event', data={'step': 136, 'train_loss': 0.22814595699310303, 'total_steps': 201, 'train_mean_token_accuracy': 0.9629629850387573}, type='metrics'),\n",
              " FineTuningJobEvent(id='ftevent-V5upyq1asPyD8ZdNa0Q5V47P', created_at=1715886396, level='info', message='Step 135/201: training loss=0.00', object='fine_tuning.job.event', data={'step': 135, 'train_loss': 5.333511944627389e-05, 'total_steps': 201, 'train_mean_token_accuracy': 1.0}, type='metrics'),\n",
              " FineTuningJobEvent(id='ftevent-wXG2KWo3gGQOcbUJ8BYF8OGb', created_at=1715886396, level='info', message='Step 134/201: training loss=0.03', object='fine_tuning.job.event', data={'step': 134, 'train_loss': 0.03103187493979931, 'total_steps': 201, 'train_mean_token_accuracy': 1.0}, type='metrics'),\n",
              " FineTuningJobEvent(id='ftevent-1PQBXtUkKm9xvYWR2wZhsR5j', created_at=1715886394, level='info', message='Step 133/201: training loss=0.02', object='fine_tuning.job.event', data={'step': 133, 'train_loss': 0.016883263364434242, 'total_steps': 201, 'train_mean_token_accuracy': 1.0}, type='metrics'),\n",
              " FineTuningJobEvent(id='ftevent-9sKFC7tjifFbHd515qL79pYM', created_at=1715886392, level='info', message='Step 132/201: training loss=0.15', object='fine_tuning.job.event', data={'step': 132, 'train_loss': 0.14634425938129425, 'total_steps': 201, 'train_mean_token_accuracy': 0.9642857313156128}, type='metrics'),\n",
              " FineTuningJobEvent(id='ftevent-XLpCQHg2a0xt5RvyfZZu6n21', created_at=1715886390, level='info', message='Step 131/201: training loss=0.23', object='fine_tuning.job.event', data={'step': 131, 'train_loss': 0.22507533431053162, 'total_steps': 201, 'train_mean_token_accuracy': 0.9629629850387573}, type='metrics'),\n",
              " FineTuningJobEvent(id='ftevent-DUKb3Ga6nWIDqzUi2Fqdbb7U', created_at=1715886388, level='info', message='Step 130/201: training loss=0.05', object='fine_tuning.job.event', data={'step': 130, 'train_loss': 0.04550354927778244, 'total_steps': 201, 'train_mean_token_accuracy': 1.0}, type='metrics'),\n",
              " FineTuningJobEvent(id='ftevent-u1tl0JWGvJAO8J69bXesAtiX', created_at=1715886388, level='info', message='Step 129/201: training loss=0.12', object='fine_tuning.job.event', data={'step': 129, 'train_loss': 0.12010838091373444, 'total_steps': 201, 'train_mean_token_accuracy': 0.9615384340286255}, type='metrics'),\n",
              " FineTuningJobEvent(id='ftevent-QN9BupJ94uLOubICmTVeUPbv', created_at=1715886385, level='info', message='Step 128/201: training loss=0.06', object='fine_tuning.job.event', data={'step': 128, 'train_loss': 0.05855310708284378, 'total_steps': 201, 'train_mean_token_accuracy': 0.9615384340286255}, type='metrics'),\n",
              " FineTuningJobEvent(id='ftevent-0wZ7nl3DxZwS2DLXuDizSvtU', created_at=1715886383, level='info', message='Step 127/201: training loss=0.37', object='fine_tuning.job.event', data={'step': 127, 'train_loss': 0.3745743930339813, 'total_steps': 201, 'train_mean_token_accuracy': 0.9629629850387573}, type='metrics'),\n",
              " FineTuningJobEvent(id='ftevent-g2dtLYNgg16jZSpGe9EkZMRe', created_at=1715886383, level='info', message='Step 126/201: training loss=0.05', object='fine_tuning.job.event', data={'step': 126, 'train_loss': 0.050244368612766266, 'total_steps': 201, 'train_mean_token_accuracy': 0.9599999785423279}, type='metrics'),\n",
              " FineTuningJobEvent(id='ftevent-uWg833jADN6eSChKUJOtl26y', created_at=1715886381, level='info', message='Step 125/201: training loss=0.05', object='fine_tuning.job.event', data={'step': 125, 'train_loss': 0.045497819781303406, 'total_steps': 201, 'train_mean_token_accuracy': 0.9599999785423279}, type='metrics'),\n",
              " FineTuningJobEvent(id='ftevent-BxXpeWknfvrBbKONoHMUDZur', created_at=1715886379, level='info', message='Step 124/201: training loss=0.03', object='fine_tuning.job.event', data={'step': 124, 'train_loss': 0.03402908146381378, 'total_steps': 201, 'train_mean_token_accuracy': 1.0}, type='metrics'),\n",
              " FineTuningJobEvent(id='ftevent-rBqRHWnLt38raG44hXk0WIyG', created_at=1715886377, level='info', message='Step 123/201: training loss=0.03', object='fine_tuning.job.event', data={'step': 123, 'train_loss': 0.026946203783154488, 'total_steps': 201, 'train_mean_token_accuracy': 1.0}, type='metrics'),\n",
              " FineTuningJobEvent(id='ftevent-ETnaJr9VEMyexorSA3Lh5Cg1', created_at=1715886375, level='info', message='Step 122/201: training loss=0.42', object='fine_tuning.job.event', data={'step': 122, 'train_loss': 0.4210023581981659, 'total_steps': 201, 'train_mean_token_accuracy': 0.8399999737739563}, type='metrics'),\n",
              " FineTuningJobEvent(id='ftevent-8PFDSp5aChOU6we7rfj4d15Y', created_at=1715886375, level='info', message='Step 121/201: training loss=0.00', object='fine_tuning.job.event', data={'step': 121, 'train_loss': 0.00010787116480059922, 'total_steps': 201, 'train_mean_token_accuracy': 1.0}, type='metrics'),\n",
              " FineTuningJobEvent(id='ftevent-rG4ljkcr8jDZ8HeETYEsbxsp', created_at=1715886373, level='info', message='Step 120/201: training loss=0.05', object='fine_tuning.job.event', data={'step': 120, 'train_loss': 0.04619811847805977, 'total_steps': 201, 'train_mean_token_accuracy': 0.9599999785423279}, type='metrics'),\n",
              " FineTuningJobEvent(id='ftevent-bqCZl2DWco2d2Ml8zcu7FMSS', created_at=1715886371, level='info', message='Step 119/201: training loss=0.06', object='fine_tuning.job.event', data={'step': 119, 'train_loss': 0.0588361956179142, 'total_steps': 201, 'train_mean_token_accuracy': 0.9629629850387573}, type='metrics'),\n",
              " FineTuningJobEvent(id='ftevent-t125G5kkgS3vlu8UUGQ2Rtrn', created_at=1715886369, level='info', message='Step 118/201: training loss=0.13', object='fine_tuning.job.event', data={'step': 118, 'train_loss': 0.12775951623916626, 'total_steps': 201, 'train_mean_token_accuracy': 0.9629629850387573}, type='metrics'),\n",
              " FineTuningJobEvent(id='ftevent-JXdwDwT3gJleJ79r1VnCrKp3', created_at=1715886369, level='info', message='Step 117/201: training loss=0.05', object='fine_tuning.job.event', data={'step': 117, 'train_loss': 0.05232938006520271, 'total_steps': 201, 'train_mean_token_accuracy': 0.9629629850387573}, type='metrics'),\n",
              " FineTuningJobEvent(id='ftevent-MUXsg2nV4Y8jPUrbLY1HtsVR', created_at=1715886367, level='info', message='Step 116/201: training loss=0.06', object='fine_tuning.job.event', data={'step': 116, 'train_loss': 0.060729026794433594, 'total_steps': 201, 'train_mean_token_accuracy': 0.9615384340286255}, type='metrics'),\n",
              " FineTuningJobEvent(id='ftevent-mC4YkzrXYL5D3S97RSp8Bi9q', created_at=1715886365, level='info', message='Step 115/201: training loss=0.00', object='fine_tuning.job.event', data={'step': 115, 'train_loss': 0.00021334047778509557, 'total_steps': 201, 'train_mean_token_accuracy': 1.0}, type='metrics'),\n",
              " FineTuningJobEvent(id='ftevent-DJ0l24GARYB97mEpdJz9FzDL', created_at=1715886363, level='info', message='Step 114/201: training loss=0.17', object='fine_tuning.job.event', data={'step': 114, 'train_loss': 0.1653158962726593, 'total_steps': 201, 'train_mean_token_accuracy': 0.9642857313156128}, type='metrics'),\n",
              " FineTuningJobEvent(id='ftevent-FgvHbmY4Cz6WoQ7Xwa9XD9rh', created_at=1715886363, level='info', message='Step 113/201: training loss=0.03', object='fine_tuning.job.event', data={'step': 113, 'train_loss': 0.0336587093770504, 'total_steps': 201, 'train_mean_token_accuracy': 1.0}, type='metrics'),\n",
              " FineTuningJobEvent(id='ftevent-cI6loAMsU8WdUdkv1jRYPiW3', created_at=1715886361, level='info', message='Step 112/201: training loss=0.04', object='fine_tuning.job.event', data={'step': 112, 'train_loss': 0.03604191914200783, 'total_steps': 201, 'train_mean_token_accuracy': 0.9615384340286255}, type='metrics'),\n",
              " FineTuningJobEvent(id='ftevent-RvfR9qKRMjlDqYlGM8XQKy8s', created_at=1715886359, level='info', message='Step 111/201: training loss=0.06', object='fine_tuning.job.event', data={'step': 111, 'train_loss': 0.06383535265922546, 'total_steps': 201, 'train_mean_token_accuracy': 0.9629629850387573}, type='metrics'),\n",
              " FineTuningJobEvent(id='ftevent-yXNF62aVfhzDfET9NOBtXJpg', created_at=1715886357, level='info', message='Step 110/201: training loss=0.47', object='fine_tuning.job.event', data={'step': 110, 'train_loss': 0.47171133756637573, 'total_steps': 201, 'train_mean_token_accuracy': 0.9200000166893005}, type='metrics'),\n",
              " FineTuningJobEvent(id='ftevent-mxTHZGcKqvmPH8RGMPUNLukC', created_at=1715886357, level='info', message='Step 109/201: training loss=0.00', object='fine_tuning.job.event', data={'step': 109, 'train_loss': 0.0005284062353894114, 'total_steps': 201, 'train_mean_token_accuracy': 1.0}, type='metrics'),\n",
              " FineTuningJobEvent(id='ftevent-6YW2DYm6OPq1Ri5Y2gMVFq2l', created_at=1715886355, level='info', message='Step 108/201: training loss=0.27', object='fine_tuning.job.event', data={'step': 108, 'train_loss': 0.26627787947654724, 'total_steps': 201, 'train_mean_token_accuracy': 0.9629629850387573}, type='metrics'),\n",
              " FineTuningJobEvent(id='ftevent-G5qmOvztBZPHhkJ4013w64Ya', created_at=1715886353, level='info', message='Step 107/201: training loss=0.02', object='fine_tuning.job.event', data={'step': 107, 'train_loss': 0.02065994217991829, 'total_steps': 201, 'train_mean_token_accuracy': 1.0}, type='metrics'),\n",
              " FineTuningJobEvent(id='ftevent-genu1KI7rIFoJ68I3y4sn3s0', created_at=1715886351, level='info', message='Step 106/201: training loss=0.06', object='fine_tuning.job.event', data={'step': 106, 'train_loss': 0.06415367126464844, 'total_steps': 201, 'train_mean_token_accuracy': 0.9599999785423279}, type='metrics')]"
            ]
          },
          "metadata": {},
          "execution_count": 25
        }
      ]
    },
    {
      "cell_type": "markdown",
      "source": [
        "Let's extract the training loss in each learning step"
      ],
      "metadata": {
        "id": "Pe3jUJJjyeO1"
      }
    },
    {
      "cell_type": "code",
      "source": [
        "event = client.fine_tuning.jobs.list_events(fine_tuning_job_id=retrieved_job.id, limit=100)\n",
        "for e in event:\n",
        "  print(e.message)"
      ],
      "metadata": {
        "id": "oqhDoVBNzW_w",
        "colab": {
          "base_uri": "https://localhost:8080/"
        },
        "outputId": "553cbc27-0519-4d60-f6b6-54cb4871a069"
      },
      "execution_count": 26,
      "outputs": [
        {
          "output_type": "stream",
          "name": "stdout",
          "text": [
            "The job has successfully completed\n",
            "New fine-tuned model created: ft:gpt-3.5-turbo-0125:onyx::9PakcPo0\n",
            "Checkpoint created at step 134 with Snapshot ID: ft:gpt-3.5-turbo-0125:onyx::9Pakczx4:ckpt-step-134\n",
            "Checkpoint created at step 67 with Snapshot ID: ft:gpt-3.5-turbo-0125:onyx::9Pakc6Dl:ckpt-step-67\n",
            "Step 201/201: training loss=0.06\n",
            "Step 200/201: training loss=0.04\n",
            "Step 199/201: training loss=0.00\n",
            "Step 198/201: training loss=0.01\n",
            "Step 197/201: training loss=0.12\n",
            "Step 196/201: training loss=0.36\n",
            "Step 195/201: training loss=0.28\n",
            "Step 194/201: training loss=0.08\n",
            "Step 193/201: training loss=0.13\n",
            "Step 192/201: training loss=0.00\n",
            "Step 191/201: training loss=0.01\n",
            "Step 190/201: training loss=0.01\n",
            "Step 189/201: training loss=0.11\n",
            "Step 188/201: training loss=0.00\n",
            "Step 187/201: training loss=0.15\n",
            "Step 186/201: training loss=0.02\n",
            "Step 185/201: training loss=0.00\n",
            "Step 184/201: training loss=0.13\n",
            "Step 183/201: training loss=0.03\n",
            "Step 182/201: training loss=0.03\n",
            "Step 181/201: training loss=0.06\n",
            "Step 180/201: training loss=0.02\n",
            "Step 179/201: training loss=0.07\n",
            "Step 178/201: training loss=0.38\n",
            "Step 177/201: training loss=0.02\n",
            "Step 176/201: training loss=0.04\n",
            "Step 175/201: training loss=0.08\n",
            "Step 174/201: training loss=0.21\n",
            "Step 173/201: training loss=0.08\n",
            "Step 172/201: training loss=0.03\n",
            "Step 171/201: training loss=0.01\n",
            "Step 170/201: training loss=0.03\n",
            "Step 169/201: training loss=0.02\n",
            "Step 168/201: training loss=0.02\n",
            "Step 167/201: training loss=0.06\n",
            "Step 166/201: training loss=0.13\n",
            "Step 165/201: training loss=0.02\n",
            "Step 164/201: training loss=0.21\n",
            "Step 163/201: training loss=0.18\n",
            "Step 162/201: training loss=0.12\n",
            "Step 161/201: training loss=0.05\n",
            "Step 160/201: training loss=0.08\n",
            "Step 159/201: training loss=0.02\n",
            "Step 158/201: training loss=0.05\n",
            "Step 157/201: training loss=0.05\n",
            "Step 156/201: training loss=0.05\n",
            "Step 155/201: training loss=0.02\n",
            "Step 154/201: training loss=0.04\n",
            "Step 153/201: training loss=0.03\n",
            "Step 152/201: training loss=0.07\n",
            "Step 151/201: training loss=0.00\n",
            "Step 150/201: training loss=0.05\n",
            "Step 149/201: training loss=0.00\n",
            "Step 148/201: training loss=0.06\n",
            "Step 147/201: training loss=0.02\n",
            "Step 146/201: training loss=0.04\n",
            "Step 145/201: training loss=0.04\n",
            "Step 144/201: training loss=0.08\n",
            "Step 143/201: training loss=0.00\n",
            "Step 142/201: training loss=0.02\n",
            "Step 141/201: training loss=0.05\n",
            "Step 140/201: training loss=0.05\n",
            "Step 139/201: training loss=0.01\n",
            "Step 138/201: training loss=0.04\n",
            "Step 137/201: training loss=0.12\n",
            "Step 136/201: training loss=0.23\n",
            "Step 135/201: training loss=0.00\n",
            "Step 134/201: training loss=0.03\n",
            "Step 133/201: training loss=0.02\n",
            "Step 132/201: training loss=0.15\n",
            "Step 131/201: training loss=0.23\n",
            "Step 130/201: training loss=0.05\n",
            "Step 129/201: training loss=0.12\n",
            "Step 128/201: training loss=0.06\n",
            "Step 127/201: training loss=0.37\n",
            "Step 126/201: training loss=0.05\n",
            "Step 125/201: training loss=0.05\n",
            "Step 124/201: training loss=0.03\n",
            "Step 123/201: training loss=0.03\n",
            "Step 122/201: training loss=0.42\n",
            "Step 121/201: training loss=0.00\n",
            "Step 120/201: training loss=0.05\n",
            "Step 119/201: training loss=0.06\n",
            "Step 118/201: training loss=0.13\n",
            "Step 117/201: training loss=0.05\n",
            "Step 116/201: training loss=0.06\n",
            "Step 115/201: training loss=0.00\n",
            "Step 114/201: training loss=0.17\n",
            "Step 113/201: training loss=0.03\n",
            "Step 112/201: training loss=0.04\n",
            "Step 111/201: training loss=0.06\n",
            "Step 110/201: training loss=0.47\n",
            "Step 109/201: training loss=0.00\n",
            "Step 108/201: training loss=0.27\n",
            "Step 107/201: training loss=0.02\n",
            "Step 106/201: training loss=0.06\n",
            "Step 105/201: training loss=0.00\n",
            "Step 104/201: training loss=0.11\n",
            "Step 103/201: training loss=0.10\n",
            "Step 102/201: training loss=0.27\n",
            "Step 101/201: training loss=0.30\n",
            "Step 100/201: training loss=0.07\n",
            "Step 99/201: training loss=0.12\n",
            "Step 98/201: training loss=0.05\n",
            "Step 97/201: training loss=0.24\n",
            "Step 96/201: training loss=0.06\n",
            "Step 95/201: training loss=0.10\n",
            "Step 94/201: training loss=0.07\n",
            "Step 93/201: training loss=0.07\n",
            "Step 92/201: training loss=0.18\n",
            "Step 91/201: training loss=0.13\n",
            "Step 90/201: training loss=0.05\n",
            "Step 89/201: training loss=0.19\n",
            "Step 88/201: training loss=0.46\n",
            "Step 87/201: training loss=0.01\n",
            "Step 86/201: training loss=0.09\n",
            "Step 85/201: training loss=0.04\n",
            "Step 84/201: training loss=0.06\n",
            "Step 83/201: training loss=0.03\n",
            "Step 82/201: training loss=0.03\n",
            "Step 81/201: training loss=0.07\n",
            "Step 80/201: training loss=0.05\n",
            "Step 79/201: training loss=0.10\n",
            "Step 78/201: training loss=0.10\n",
            "Step 77/201: training loss=0.13\n",
            "Step 76/201: training loss=0.14\n",
            "Step 75/201: training loss=0.05\n",
            "Step 74/201: training loss=0.06\n",
            "Step 73/201: training loss=0.07\n",
            "Step 72/201: training loss=0.10\n",
            "Step 71/201: training loss=0.08\n",
            "Step 70/201: training loss=0.10\n",
            "Step 69/201: training loss=0.10\n",
            "Step 68/201: training loss=0.18\n",
            "Step 67/201: training loss=0.14\n",
            "Step 66/201: training loss=0.40\n",
            "Step 65/201: training loss=0.07\n",
            "Step 64/201: training loss=0.52\n",
            "Step 63/201: training loss=0.64\n",
            "Step 62/201: training loss=0.51\n",
            "Step 61/201: training loss=0.10\n",
            "Step 60/201: training loss=0.62\n",
            "Step 59/201: training loss=0.11\n",
            "Step 58/201: training loss=0.35\n",
            "Step 57/201: training loss=0.41\n",
            "Step 56/201: training loss=0.40\n",
            "Step 55/201: training loss=0.09\n",
            "Step 54/201: training loss=0.08\n",
            "Step 53/201: training loss=0.10\n",
            "Step 52/201: training loss=0.13\n",
            "Step 51/201: training loss=0.14\n",
            "Step 50/201: training loss=0.05\n",
            "Step 49/201: training loss=0.29\n",
            "Step 48/201: training loss=0.14\n",
            "Step 47/201: training loss=0.64\n",
            "Step 46/201: training loss=0.20\n",
            "Step 45/201: training loss=0.36\n",
            "Step 44/201: training loss=0.25\n",
            "Step 43/201: training loss=0.06\n",
            "Step 42/201: training loss=0.41\n",
            "Step 41/201: training loss=0.14\n",
            "Step 40/201: training loss=0.03\n",
            "Step 39/201: training loss=0.83\n",
            "Step 38/201: training loss=0.06\n",
            "Step 37/201: training loss=0.08\n",
            "Step 36/201: training loss=0.08\n",
            "Step 35/201: training loss=0.06\n",
            "Step 34/201: training loss=0.05\n",
            "Step 33/201: training loss=0.06\n",
            "Step 32/201: training loss=0.10\n",
            "Step 31/201: training loss=0.57\n",
            "Step 30/201: training loss=0.12\n",
            "Step 29/201: training loss=0.06\n",
            "Step 28/201: training loss=0.21\n",
            "Step 27/201: training loss=0.15\n",
            "Step 26/201: training loss=1.11\n",
            "Step 25/201: training loss=0.12\n",
            "Step 24/201: training loss=0.21\n",
            "Step 23/201: training loss=0.15\n",
            "Step 22/201: training loss=0.11\n",
            "Step 21/201: training loss=0.10\n",
            "Step 20/201: training loss=0.19\n",
            "Step 19/201: training loss=1.40\n",
            "Step 18/201: training loss=0.62\n",
            "Step 17/201: training loss=1.91\n",
            "Step 16/201: training loss=0.14\n",
            "Step 15/201: training loss=0.26\n",
            "Step 14/201: training loss=0.39\n",
            "Step 13/201: training loss=0.22\n",
            "Step 12/201: training loss=0.31\n",
            "Step 11/201: training loss=0.52\n",
            "Step 10/201: training loss=0.21\n",
            "Step 9/201: training loss=2.42\n",
            "Step 8/201: training loss=1.11\n",
            "Step 7/201: training loss=2.66\n",
            "Step 6/201: training loss=1.20\n",
            "Step 5/201: training loss=0.96\n",
            "Step 4/201: training loss=0.89\n",
            "Step 3/201: training loss=0.99\n",
            "Step 2/201: training loss=1.11\n",
            "Step 1/201: training loss=1.01\n",
            "Fine-tuning job started\n",
            "Files validated, moving job to queued state\n",
            "Validating training file: file-re5kAKjsRFZg7SAYnEZ0HiEv\n",
            "Created fine-tuning job: ftjob-lVVz0i7HzMl88dwFl6jitZ88\n"
          ]
        }
      ]
    },
    {
      "cell_type": "markdown",
      "source": [
        "Use a line chart to visualize the train_loss in each step"
      ],
      "metadata": {
        "id": "iiiJIUuq2W4D"
      }
    },
    {
      "cell_type": "code",
      "source": [
        "steps = []\n",
        "train_loss = []\n",
        "\n",
        "for e in event:\n",
        "  if e.data:\n",
        "    steps.append(e.data['step'])\n",
        "    train_loss.append(e.data['train_loss'])"
      ],
      "metadata": {
        "id": "EMRvEd-F2bLO"
      },
      "execution_count": 27,
      "outputs": []
    },
    {
      "cell_type": "code",
      "source": [
        "print(steps)\n",
        "print(train_loss)"
      ],
      "metadata": {
        "colab": {
          "base_uri": "https://localhost:8080/"
        },
        "id": "_Re_pfCqxJvO",
        "outputId": "8436ed21-f071-4d3b-d113-2569d9c3c4dd"
      },
      "execution_count": 28,
      "outputs": [
        {
          "output_type": "stream",
          "name": "stdout",
          "text": [
            "[201, 200, 199, 198, 197, 196, 195, 194, 193, 192, 191, 190, 189, 188, 187, 186, 185, 184, 183, 182, 181, 180, 179, 178, 177, 176, 175, 174, 173, 172, 171, 170, 169, 168, 167, 166, 165, 164, 163, 162, 161, 160, 159, 158, 157, 156, 155, 154, 153, 152, 151, 150, 149, 148, 147, 146, 145, 144, 143, 142, 141, 140, 139, 138, 137, 136, 135, 134, 133, 132, 131, 130, 129, 128, 127, 126, 125, 124, 123, 122, 121, 120, 119, 118, 117, 116, 115, 114, 113, 112, 111, 110, 109, 108, 107, 106, 105, 104, 103, 102, 101, 100, 99, 98, 97, 96, 95, 94, 93, 92, 91, 90, 89, 88, 87, 86, 85, 84, 83, 82, 81, 80, 79, 78, 77, 76, 75, 74, 73, 72, 71, 70, 69, 68, 67, 66, 65, 64, 63, 62, 61, 60, 59, 58, 57, 56, 55, 54, 53, 52, 51, 50, 49, 48, 47, 46, 45, 44, 43, 42, 41, 40, 39, 38, 37, 36, 35, 34, 33, 32, 31, 30, 29, 28, 27, 26, 25, 24, 23, 22, 21, 20, 19, 18, 17, 16, 15, 14, 13, 12, 11, 10, 9, 8, 7, 6, 5, 4, 3, 2, 1]\n",
            "[0.05842471122741699, 0.04181427136063576, 2.896344312830479e-06, 0.010410385206341743, 0.12481456249952316, 0.3589533269405365, 0.2819384038448334, 0.08181167393922806, 0.13092128932476044, 2.825701585607021e-06, 0.01248214766383171, 0.010260543785989285, 0.11307624727487564, 3.885339992848458e-06, 0.1477930247783661, 0.017010651528835297, 3.7440547657752177e-06, 0.13194648921489716, 0.026600081473588943, 0.029189668595790863, 0.06177040562033653, 0.01883520931005478, 0.07289949804544449, 0.3809034824371338, 0.0214413870126009, 0.04456028714776039, 0.07500679045915604, 0.20934036374092102, 0.08432536572217941, 0.030432773754000664, 0.010971875861287117, 0.03105361945927143, 0.018145598471164703, 0.021382903680205345, 0.06052699312567711, 0.12826135754585266, 0.017050353810191154, 0.20961415767669678, 0.184697687625885, 0.11613523215055466, 0.05129814147949219, 0.07619582861661911, 0.01624826341867447, 0.053147658705711365, 0.045611895620822906, 0.050017744302749634, 0.021169891580939293, 0.035662587732076645, 0.029724350199103355, 0.06697171181440353, 1.9002844055648893e-05, 0.04795974865555763, 4.662407809519209e-05, 0.05892159417271614, 0.018643174320459366, 0.04318597540259361, 0.043521735817193985, 0.07658470422029495, 2.832765858329367e-05, 0.015319237485527992, 0.04685960337519646, 0.05431358516216278, 0.013725493103265762, 0.04150701314210892, 0.12439588457345963, 0.22814595699310303, 5.333511944627389e-05, 0.03103187493979931, 0.016883263364434242, 0.14634425938129425, 0.22507533431053162, 0.04550354927778244, 0.12010838091373444, 0.05855310708284378, 0.3745743930339813, 0.050244368612766266, 0.045497819781303406, 0.03402908146381378, 0.026946203783154488, 0.4210023581981659, 0.00010787116480059922, 0.04619811847805977, 0.0588361956179142, 0.12775951623916626, 0.05232938006520271, 0.060729026794433594, 0.00021334047778509557, 0.1653158962726593, 0.0336587093770504, 0.03604191914200783, 0.06383535265922546, 0.47171133756637573, 0.0005284062353894114, 0.26627787947654724, 0.02065994217991829, 0.06415367126464844, 0.0013147989520803094, 0.11184433102607727, 0.09748153388500214, 0.27032703161239624, 0.2990271747112274, 0.06668144464492798, 0.12168197333812714, 0.05387520790100098, 0.23813092708587646, 0.05785934627056122, 0.1027742549777031, 0.06857194006443024, 0.06505680084228516, 0.17665185034275055, 0.12890297174453735, 0.04673019424080849, 0.18673133850097656, 0.45843616127967834, 0.007740727160125971, 0.0854116827249527, 0.04134603589773178, 0.06062164157629013, 0.028367431834340096, 0.032894574105739594, 0.06957372277975082, 0.05167665332555771, 0.10087267309427261, 0.09659218043088913, 0.134864941239357, 0.1368969827890396, 0.051662299782037735, 0.06111648678779602, 0.06823982298374176, 0.09597446024417877, 0.08313334733247757, 0.09550637751817703, 0.0993889719247818, 0.1839219629764557, 0.1409788429737091, 0.39541175961494446, 0.06898674368858337, 0.5206081867218018, 0.6409933567047119, 0.5055364370346069, 0.09714484214782715, 0.6188998818397522, 0.11480811983346939, 0.34504324197769165, 0.40596750378608704, 0.3988109827041626, 0.09426988661289215, 0.07553545385599136, 0.09637069702148438, 0.13214828073978424, 0.1374436765909195, 0.04504319652915001, 0.2934570908546448, 0.14057320356369019, 0.639180600643158, 0.19716814160346985, 0.35557761788368225, 0.25330397486686707, 0.0647919699549675, 0.40678051114082336, 0.14256969094276428, 0.02567382901906967, 0.8272089958190918, 0.06284821778535843, 0.07686756551265717, 0.08461227267980576, 0.059971150010824203, 0.04544277861714363, 0.06335845589637756, 0.09720199555158615, 0.5697519779205322, 0.11728782951831818, 0.06180252134799957, 0.211570605635643, 0.15382307767868042, 1.1110968589782715, 0.11977401375770569, 0.2112664431333542, 0.1499365270137787, 0.11041374504566193, 0.10265710949897766, 0.18926987051963806, 1.3983550071716309, 0.6223132610321045, 1.9113644361495972, 0.1418030858039856, 0.25902149081230164, 0.39367833733558655, 0.2183384746313095, 0.3092842102050781, 0.5152062177658081, 0.20936821401119232, 2.4199416637420654, 1.112068772315979, 2.660818099975586, 1.2008792161941528, 0.9574140310287476, 0.8911645412445068, 0.9897022247314453, 1.107801079750061, 1.0112555027008057]\n"
          ]
        }
      ]
    },
    {
      "cell_type": "code",
      "source": [
        "plt.plot(steps, train_loss, marker = 'o', linestyle = '-')"
      ],
      "metadata": {
        "colab": {
          "base_uri": "https://localhost:8080/",
          "height": 447
        },
        "id": "qnyM0loFxO6L",
        "outputId": "e1a7374c-eb28-4b1a-d141-aaaec973781e"
      },
      "execution_count": 29,
      "outputs": [
        {
          "output_type": "execute_result",
          "data": {
            "text/plain": [
              "[<matplotlib.lines.Line2D at 0x7d6322a41b10>]"
            ]
          },
          "metadata": {},
          "execution_count": 29
        },
        {
          "output_type": "display_data",
          "data": {
            "text/plain": [
              "<Figure size 640x480 with 1 Axes>"
            ],
            "image/png": "[encoded data removed]"
          },
          "metadata": {}
        }
      ]
    },
    {
      "cell_type": "markdown",
      "source": [
        "### Task 5 - Deploy our model"
      ],
      "metadata": {
        "id": "8lGyZnvk25q9"
      }
    },
    {
      "cell_type": "markdown",
      "source": [
        "Let's take a look at `retrieved_job` again"
      ],
      "metadata": {
        "id": "EYljL-wH42ce"
      }
    },
    {
      "cell_type": "code",
      "source": [
        "myLLM = retrieved_job.fine_tuned_model\n",
        "print(myLLM)"
      ],
      "metadata": {
        "id": "q4ChDCWo3H85",
        "colab": {
          "base_uri": "https://localhost:8080/"
        },
        "outputId": "c5e32fb4-544a-46c8-c836-231f8e9d965a"
      },
      "execution_count": 30,
      "outputs": [
        {
          "output_type": "stream",
          "name": "stdout",
          "text": [
            "ft:gpt-3.5-turbo-0125:onyx::9PakcPo0\n"
          ]
        }
      ]
    },
    {
      "cell_type": "markdown",
      "source": [
        "Defining a method to extract information from a given user complaint using a specific LLM and return the results."
      ],
      "metadata": {
        "id": "nLLfuwC4-h9K"
      }
    },
    {
      "cell_type": "code",
      "source": [
        "def extract_details(user_complaint, model_name):\n",
        "    \"\"\"\n",
        "    This function extracts information from a given user complaint using a specific LLM (Large Language Model).\n",
        "\n",
        "    Parameters:\n",
        "    user_complaint (str): The text of the user's complaint.\n",
        "    model_name (str): The name of the specific LLM model to use for extraction.\n",
        "    \"\"\"\n",
        "\n",
        "    system_content = \"\"\"\n",
        "        Given a customer complaint text, extract and return the following information in JSON (dict) format:\n",
        "        - Topic\n",
        "        - Problem\n",
        "        - Customer_Dissatisfaction_Index\n",
        "    \"\"\"\n",
        "\n",
        "    # Generate a response using the specified model and the user's complaint\n",
        "    response = client.chat.completions.create(\n",
        "        model = model_name,\n",
        "        messages=[\n",
        "            {\"role\": \"system\", \"content\": system_content},  # System content explaining the expected output\n",
        "            {\"role\": \"user\", \"content\": user_complaint}  # User's complaint passed as content\n",
        "        ]\n",
        "    )\n",
        "\n",
        "    # Return the content of the generated response\n",
        "    return response.choices[0].message.content\n"
      ],
      "metadata": {
        "id": "P3_99_Hf5CV1"
      },
      "execution_count": 31,
      "outputs": []
    },
    {
      "cell_type": "markdown",
      "source": [
        "Let's use our fine-tuned model to extract the details for the following user complaint:\n",
        "\n",
        "*TV channels keep disappearing from my subscription! What's going on? Extremely annoyed with this service!*"
      ],
      "metadata": {
        "id": "zE_O2zAwplof"
      }
    },
    {
      "cell_type": "code",
      "source": [
        "complaint = \"TV channels keep disappearing from my subscription! What's going on? Extremely annoyed with this service!\"\n",
        "extract_details(complaint, myLLM)"
      ],
      "metadata": {
        "id": "vD1dEjnzWTuw",
        "colab": {
          "base_uri": "https://localhost:8080/",
          "height": 35
        },
        "outputId": "e146e635-758a-47f4-b845-2be6adfebb25"
      },
      "execution_count": 34,
      "outputs": [
        {
          "output_type": "execute_result",
          "data": {
            "text/plain": [
              "'{\"Topic\": \"TV\", \"Problem\": \"Channels disappearing\", \"Customer_Dissatisfaction_Index\": 10}'"
            ],
            "application/vnd.google.colaboratory.intrinsic+json": {
              "type": "string"
            }
          },
          "metadata": {},
          "execution_count": 34
        }
      ]
    },
    {
      "cell_type": "markdown",
      "source": [
        "Let's test our `GPT-4` model with the same user complaint"
      ],
      "metadata": {
        "id": "LJNgLZoS6-gw"
      }
    },
    {
      "cell_type": "code",
      "source": [
        "extract_details(complaint, 'gpt-4')"
      ],
      "metadata": {
        "id": "G2XBuw0N47AC",
        "colab": {
          "base_uri": "https://localhost:8080/",
          "height": 35
        },
        "outputId": "9d1ffb1b-38d2-4b39-8ec4-b8afa820ff49"
      },
      "execution_count": 36,
      "outputs": [
        {
          "output_type": "execute_result",
          "data": {
            "text/plain": [
              "'{\\n    \"Topic\": \"Line Down\",\\n    \"Problem\": \"Customer\\'s line is down, causing disruptions\",\\n    \"Customer_Dissatisfaction_Index\": \"High\"\\n}'"
            ],
            "application/vnd.google.colaboratory.intrinsic+json": {
              "type": "string"
            }
          },
          "metadata": {},
          "execution_count": 36
        }
      ]
    },
    {
      "cell_type": "markdown",
      "source": [
        "Let's try for the following complaint:\n",
        "\n",
        "*Line is down! It is really annoying!*"
      ],
      "metadata": {
        "id": "J3xZBAUitpVq"
      }
    },
    {
      "cell_type": "code",
      "source": [
        "complaint = \"Line is down! It is really annoying!\"\n",
        "extract_details(complaint, myLLM)"
      ],
      "metadata": {
        "id": "I3O6HzK_ttZ7",
        "colab": {
          "base_uri": "https://localhost:8080/",
          "height": 35
        },
        "outputId": "27790f2b-6105-42eb-e12f-c5d60ef28ee6"
      },
      "execution_count": 35,
      "outputs": [
        {
          "output_type": "execute_result",
          "data": {
            "text/plain": [
              "'{\"Topic\": \"Internet\", \"Problem\": \"Line down\", \"Customer_Dissatisfaction_Index\": 10}'"
            ],
            "application/vnd.google.colaboratory.intrinsic+json": {
              "type": "string"
            }
          },
          "metadata": {},
          "execution_count": 35
        }
      ]
    },
    {
      "cell_type": "markdown",
      "source": [
        "Now let's compare the results from GPT-4"
      ],
      "metadata": {
        "id": "W4zeLRZfuNmS"
      }
    },
    {
      "cell_type": "code",
      "source": [
        "extract_details(complaint, 'gpt-4')"
      ],
      "metadata": {
        "id": "6ubUkjXXuQ8X",
        "colab": {
          "base_uri": "https://localhost:8080/",
          "height": 35
        },
        "outputId": "a4ef9e6a-e03d-4972-f011-25ed91baa93e"
      },
      "execution_count": 37,
      "outputs": [
        {
          "output_type": "execute_result",
          "data": {
            "text/plain": [
              "'{\\n\"Topic\": \"Line Down\",\\n\"Problem\": \"The customer\\'s line is down and they are finding it very annoying\",\\n\"Customer_Dissatisfaction_Index\": \"High\"\\n}'"
            ],
            "application/vnd.google.colaboratory.intrinsic+json": {
              "type": "string"
            }
          },
          "metadata": {},
          "execution_count": 37
        }
      ]
    },
    {
      "cell_type": "markdown",
      "source": [
        "We can see that our model, which is trained on our dataset, provides better answers compared to GPT-4. Our model is fine-tuned based on our data and is familiar with the different edge cases and the context of our dataset."
      ],
      "metadata": {
        "id": "YvqSymjWueXu"
      }
    },
    {
      "cell_type": "code",
      "source": [
        "customer_complaint = \"I am very Angry! I want my money back!\"\n",
        "extract_details(complaint, myLLM)"
      ],
      "metadata": {
        "id": "wVQQfAAXy-v8",
        "colab": {
          "base_uri": "https://localhost:8080/",
          "height": 35
        },
        "outputId": "b606fda0-d1f4-434a-b2ba-a1329ba53de0"
      },
      "execution_count": 38,
      "outputs": [
        {
          "output_type": "execute_result",
          "data": {
            "text/plain": [
              "'{\"Topic\": \"Internet\", \"Problem\": \"Line down\", \"Customer_Dissatisfaction_Index\": 10}'"
            ],
            "application/vnd.google.colaboratory.intrinsic+json": {
              "type": "string"
            }
          },
          "metadata": {},
          "execution_count": 38
        }
      ]
    },
    {
      "cell_type": "code",
      "source": [],
      "metadata": {
        "id": "xeofcFOY0nm8"
      },
      "execution_count": null,
      "outputs": []
    }
  ]
}